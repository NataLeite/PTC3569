{
 "cells": [
  {
   "cell_type": "markdown",
   "id": "7a18568c",
   "metadata": {},
   "source": [
    "# Resolução da folha de exercícios n.° 5 da matéria PTC-3569, \"Introdução à Inteligência Computacional\", ministrada pelo Prof. Dr. Ademar Ferreira\n",
    "Aluna: Renata Leite Leandro, N.° USP: 11246993"
   ]
  },
  {
   "cell_type": "markdown",
   "id": "3b0e9ff8",
   "metadata": {},
   "source": [
    "# Exercício 1\n",
    "\n",
    "##### Resolver o problema da classificação de dígitos manuscritos utilizando o banco de dados MNIST e redes convolucionais. Utilizar a linguagem Python 3 e as bibliotecas Keras e TensorFlow, e o Modelo abaixo:\n",
    "\n",
    "\n",
    "\n",
    "##### Dígito MNIST\n",
    "\n",
    "    ↓\n",
    "\n",
    "##### Conv2D (filtros = 64)\n",
    "\n",
    "##### MaxPooling2D (2)\n",
    "\n",
    "##### Conv2D (filtros = 64)\n",
    "\n",
    "##### MaxPooling2D (2)\n",
    "\n",
    "##### Conv2D (filtros = 64)\n",
    "\n",
    "##### Dropout\n",
    "\n",
    "##### Dense (10)\n",
    "\n",
    "##### Ativação ( softmax)\n",
    "\n",
    "    ↓\n",
    "\n",
    "##### 0 ... 9\n",
    "\n",
    "\n",
    "##### Utilizar o código cnn-mnist-1.4.1.py, disponível em: https://github.com/PacktPublishing/Advanced-Deep-Learning-with-Keras\n",
    "\n",
    "##### Apresentar explicações e comentários pessoais detalhados das linhas relevantes do código, em especial as que se referem a dimensões de tensores e kernels, filtros, otimização (treinamento e teste), função de desempenho (loss function) e regularização. Apresentar os resultados da classificação em termos de percentagem de acertos, para treinamento e teste, para diferentes tipos de otimização e diferentes valores dos hiperparâmetros, como na regularização (valores de Dropout). Experimentar com a função de perdas categorical_crossentropy."
   ]
  },
  {
   "cell_type": "markdown",
   "id": "5db92cd8",
   "metadata": {},
   "source": [
    "## Resolução:"
   ]
  },
  {
   "cell_type": "markdown",
   "id": "3811e52c",
   "metadata": {},
   "source": [
    "Primeiramente, importaremos as bibliotecas que serão utilizadas:"
   ]
  },
  {
   "cell_type": "code",
   "execution_count": 363,
   "id": "7464784e",
   "metadata": {},
   "outputs": [],
   "source": [
    "# Importa as bibliotecas e o conjunto de dados\n",
    "from __future__ import absolute_import\n",
    "from __future__ import division\n",
    "from __future__ import print_function\n",
    "\n",
    "import numpy as np\n",
    "\n",
    "from tensorflow.keras.models import Sequential\n",
    "from tensorflow.keras.layers import Activation, Dense, Dropout\n",
    "from tensorflow.keras.layers import Conv2D, MaxPooling2D, Flatten\n",
    "from tensorflow.keras.utils import to_categorical, plot_model\n",
    "\n",
    "from tensorflow.keras.datasets import mnist"
   ]
  },
  {
   "cell_type": "markdown",
   "id": "0b9c802e",
   "metadata": {},
   "source": [
    "Em seguida, podemos iniciar a explicação do código dado em cnn-mnist-1.4.1.py, que utiliza uma rede convolucional para resolver um problema de classificação (no caso, de diferentes dígitos manuscritos) dado pelo banco de dados MNIST.\n",
    "\n",
    "Iniciaremos pelo carregamento e tratamento dos dados do dataset:"
   ]
  },
  {
   "cell_type": "code",
   "execution_count": 364,
   "id": "d5766d56",
   "metadata": {},
   "outputs": [],
   "source": [
    "# Carrega e divide o dataset MNIST:\n",
    "(x_train, y_train), (x_test, y_test) = mnist.load_data()\n",
    "\n",
    "# Computa o número de rótulos (labels) possíveis:\n",
    "num_labels = len(np.unique(y_train))\n",
    "\n",
    "# Converte todos os rótulos (tanto treino quanto teste) em um vetor de variáveis dummy (one-hot-encoding):\n",
    "y_train = to_categorical(y_train)\n",
    "y_test = to_categorical(y_test)\n",
    "\n",
    "\n",
    "# Calcula as dimensões da imagem do input:\n",
    "image_size = x_train.shape[1]\n",
    "\n",
    "# Redimensiona e normaliza cada imagem que compõe o dataset para que todas possuam tamanhos iguais:\n",
    "x_train = np.reshape(x_train,[-1, image_size, image_size, 1])\n",
    "x_test = np.reshape(x_test,[-1, image_size, image_size, 1])\n",
    "x_train = x_train.astype('float32') / 255\n",
    "x_test = x_test.astype('float32') / 255"
   ]
  },
  {
   "cell_type": "markdown",
   "id": "3702ebf4",
   "metadata": {},
   "source": [
    "Com os dados devidamente preparados, prosseguiremos para a criação do modelo. Para uma melhor compreensão do processo, é importante ressaltar algumas funções que estarão presentes nas camadas da network, como:\n",
    "\n",
    "- Conv2D: camada de convolução para dados 2D (no caso, imagens). A ativação usada será a ReLu (não-linear), muito popular. Ademais, definiremos os parâmetros filter_size (refere-se ao número de filtros na saída) como 64 e kernel_size (que é o filtro que passa pelas imagens) como 3;\n",
    "- MaxPooling2D: MaxPooling para dados 2D, reportará a máxima saída numa vizinhança retangular;\n",
    "- Flatten: converte uma array multi-dimensional (no caso, uma imagem) em um vetor, que alimentará a camada \"dropout\";\n",
    "- Dropout: técnica de regularização que previne que a rede sofra overfitting. Seleciona alguns neurônios aleatoriamente para serem \"deixados de fora\" da network durante o treinamento, removendo a temporariamente a contribução desses neurônios e impedindo que a network apenas memorize os dados;\n",
    "- Dense: camada completamente conectada;\n",
    "- Softmax: função de ativação útil para problemas distribucionais, que transforma os outputs da rede em um vetor de probabilidades - no caso, um vetor com 10 valores (correspondentes aos números 0-9), em que cada valor corresponde à probabilidade do output corresponder a determinada classe;\n",
    "\n",
    "Além disso, após a construção da nossa rede de 9 camadas, estabeleceremos também uma função de custo, responsável por avaliar a performance da máquina estimando o quão grande é a diferença entre o output predito e o output verdadeiro. Uma alta função de custo indica que a rede neural não teve bom desempenho, e tal medida é importante porque a network se guiará por ela para melhorar a sua performance, diminuindo o custo pela descida no gradiente. Para ajudar nessa minimização, utilizaremos o otimizador \"Adam\" (adaptive moment estimation). Um otimizador é responsável por ajustar os pesos e a learning rate, diminuindo, consequentemente, a função de custo; no caso do Adam, isto ocorre através de um \"upgrade\" do método de gradiente descendente estocástico, pois a learning rate é adaptada individualmente para cada peso. Por último, embora o aprendizado da network seja guiado principalmente pela função de custo, usaremos também a acurácia como métrica para verificar o desempenho da rede."
   ]
  },
  {
   "cell_type": "code",
   "execution_count": 365,
   "id": "518793ba",
   "metadata": {},
   "outputs": [],
   "source": [
    "# Parâmetros da network:\n",
    "input_shape = (image_size, image_size, 1)    # O 1 significa que a imagem será processada em escala de cinza.\n",
    "batch_size = 128\n",
    "kernel_size = 3\n",
    "pool_size = 2\n",
    "filters = 64    # Dimensão do output da layer, cujo tamanho é definido pela complexidade do problema.\n",
    "dropout = 0.2\n",
    "\n",
    "\n",
    "# Modelo CNN-ReLU-MaxPooling:\n",
    "model = Sequential()    # Cria um modelo do tipo 'sequential', mais comum e simples, em que cada camada recebe exatamente um input e retorna apenas um output (input da camada seguinte).\n",
    "model.add(Conv2D(filters=filters,     # Adiciona uma camada de convolução com ativação não-linear \"relu\", mais básica.\n",
    "                 kernel_size=kernel_size,\n",
    "                 activation='relu',\n",
    "                 input_shape=input_shape))\n",
    "model.add(MaxPooling2D(pool_size))    # Adiciona uma camada de pooling.\n",
    "model.add(Conv2D(filters=filters,     # Adiciona a segunda camada de convolução com ativação \"relu\". \n",
    "                 kernel_size=kernel_size,\n",
    "                 activation='relu'))\n",
    "model.add(MaxPooling2D(pool_size))    # Adiciona a segunda camada de pooling.\n",
    "model.add(Conv2D(filters=filters,     # Adiciona a terceira camada de convolução com ativação \"ReLu\". \n",
    "                 kernel_size=kernel_size,\n",
    "                 activation='relu'))\n",
    "model.add(Flatten())    # Adiciona a camada flatten.\n",
    "model.add(Dropout(dropout))    # Adiciona a camada de dropout, regularizador.\n",
    "model.add(Dense(num_labels))    # Adiciona uma camada com 10 neurônios (número de labels) que estará completamente conectada com a anterior (dense).\n",
    "model.add(Activation('softmax'))    # Adiciona uma camada com a função de ativação \"softmax\"\n",
    "\n",
    "# Função de custo\n",
    "model.compile(loss='categorical_crossentropy',    # Define a função de custo, com otimizador básico 'adam' e métrica acurácia.\n",
    "              optimizer='adam',\n",
    "              metrics=['accuracy'])"
   ]
  },
  {
   "cell_type": "markdown",
   "id": "ea2a3400",
   "metadata": {},
   "source": [
    "Por fim, treinaremos a network:"
   ]
  },
  {
   "cell_type": "code",
   "execution_count": 60,
   "id": "2c91ee23",
   "metadata": {},
   "outputs": [
    {
     "name": "stdout",
     "output_type": "stream",
     "text": [
      "Model: \"sequential_12\"\n",
      "_________________________________________________________________\n",
      "Layer (type)                 Output Shape              Param #   \n",
      "=================================================================\n",
      "conv2d_22 (Conv2D)           (None, 26, 26, 64)        640       \n",
      "_________________________________________________________________\n",
      "max_pooling2d_15 (MaxPooling (None, 13, 13, 64)        0         \n",
      "_________________________________________________________________\n",
      "conv2d_23 (Conv2D)           (None, 11, 11, 64)        36928     \n",
      "_________________________________________________________________\n",
      "max_pooling2d_16 (MaxPooling (None, 5, 5, 64)          0         \n",
      "_________________________________________________________________\n",
      "conv2d_24 (Conv2D)           (None, 3, 3, 64)          36928     \n",
      "_________________________________________________________________\n",
      "flatten_11 (Flatten)         (None, 576)               0         \n",
      "_________________________________________________________________\n",
      "dropout_8 (Dropout)          (None, 576)               0         \n",
      "_________________________________________________________________\n",
      "dense_8 (Dense)              (None, 10)                5770      \n",
      "_________________________________________________________________\n",
      "activation_8 (Activation)    (None, 10)                0         \n",
      "=================================================================\n",
      "Total params: 80,266\n",
      "Trainable params: 80,266\n",
      "Non-trainable params: 0\n",
      "_________________________________________________________________\n",
      "Epoch 1/10\n",
      "469/469 [==============================] - 55s 118ms/step - loss: 0.0145 - accuracy: 0.9952\n",
      "Epoch 2/10\n",
      "469/469 [==============================] - 57s 121ms/step - loss: 0.0132 - accuracy: 0.9958\n",
      "Epoch 3/10\n",
      "469/469 [==============================] - 56s 119ms/step - loss: 0.0121 - accuracy: 0.9959\n",
      "Epoch 4/10\n",
      "469/469 [==============================] - 56s 119ms/step - loss: 0.0105 - accuracy: 0.9966\n",
      "Epoch 5/10\n",
      "469/469 [==============================] - 55s 117ms/step - loss: 0.0094 - accuracy: 0.9964\n",
      "Epoch 6/10\n",
      "469/469 [==============================] - 55s 118ms/step - loss: 0.0090 - accuracy: 0.9970\n",
      "Epoch 7/10\n",
      "469/469 [==============================] - 54s 115ms/step - loss: 0.0071 - accuracy: 0.9975\n",
      "Epoch 8/10\n",
      "469/469 [==============================] - 54s 115ms/step - loss: 0.0087 - accuracy: 0.9969\n",
      "Epoch 9/10\n",
      "469/469 [==============================] - 53s 114ms/step - loss: 0.0073 - accuracy: 0.9973\n",
      "Epoch 10/10\n",
      "469/469 [==============================] - 53s 113ms/step - loss: 0.0083 - accuracy: 0.9971\n",
      "\n",
      "Test accuracy: 99.3%\n"
     ]
    }
   ],
   "source": [
    "# Apresenta a network esquematicamente:\n",
    "model.summary()\n",
    "\n",
    "\n",
    "# Treina a network:\n",
    "model.fit(x_train, y_train, epochs=10, batch_size=batch_size)\n",
    "_, acc = model.evaluate(x_test,\n",
    "                        y_test,\n",
    "                        batch_size=batch_size,\n",
    "                        verbose=0)\n",
    "print(\"\\nTest accuracy: %.1f%%\" % (100.0 * acc))"
   ]
  },
  {
   "cell_type": "markdown",
   "id": "9e95afec",
   "metadata": {},
   "source": [
    "Vemos que o resultado obtido foi de uma acurácia de aproximadamente 99.7% para o conjunto de treino e de 99.3% para o conjunto de teste. A ligeira diferença entre as acurácias, menor no conjunto de teste, é esperada e serve para indicar que o modelo não sofreu overfitting, já que foi capaz de generalizar, adaptando-se a novos dados. Além disso, juntamente ao aumento da acurácia a cada epoch do treinamento, verificamos a diminuição da função de custo, que chegou a menos de 0.01, o que comprova que houve um processo de aprendizagem pela network."
   ]
  },
  {
   "cell_type": "markdown",
   "id": "0f7625ae",
   "metadata": {},
   "source": [
    "Embora tenhamos chegado a um ótimo resultado com o código oferecido em cnn-mnist-1.4.1.py, podemos ainda experimentar diferentes valores de hiperparâmetros com o intuito de não apenas tentar melhorar a acurácia obtida, mas também de, principalmente, entender com maior profundidade a função exercida por cada parâmetro. Abaixo, veremos um pouco dessas alterações."
   ]
  },
  {
   "cell_type": "markdown",
   "id": "b6e8249c",
   "metadata": {},
   "source": [
    "### Dropout\n",
    "\n",
    "Começaremos, por mudanças na regularização. O valor de dropout inicialmente escolhido, 0.2, fazia com que 20% dos neurônios fosse aleatoriamente excluidos durante o treinamento da rede. A escolha dessa parcela mostra-se adequada por ser, ao mesmo tempo, suficiente para evitar overfitting e pequena para não resultar em uma sub-aprendizagem. Mas e se escolhermos um valor maior?"
   ]
  },
  {
   "cell_type": "code",
   "execution_count": 15,
   "id": "f1d7aeab",
   "metadata": {},
   "outputs": [
    {
     "name": "stdout",
     "output_type": "stream",
     "text": [
      "Epoch 1/10\n",
      "469/469 [==============================] - 53s 112ms/step - loss: 0.5121 - accuracy: 0.8333\n",
      "Epoch 2/10\n",
      "469/469 [==============================] - 52s 110ms/step - loss: 0.1591 - accuracy: 0.9518\n",
      "Epoch 3/10\n",
      "469/469 [==============================] - 53s 113ms/step - loss: 0.1196 - accuracy: 0.9643\n",
      "Epoch 4/10\n",
      "469/469 [==============================] - 52s 111ms/step - loss: 0.1010 - accuracy: 0.9688\n",
      "Epoch 5/10\n",
      "469/469 [==============================] - 52s 111ms/step - loss: 0.0889 - accuracy: 0.9732\n",
      "Epoch 6/10\n",
      "469/469 [==============================] - 51s 109ms/step - loss: 0.0768 - accuracy: 0.9771\n",
      "Epoch 7/10\n",
      "469/469 [==============================] - 52s 111ms/step - loss: 0.0708 - accuracy: 0.9785\n",
      "Epoch 8/10\n",
      "469/469 [==============================] - 52s 111ms/step - loss: 0.0670 - accuracy: 0.9793\n",
      "Epoch 9/10\n",
      "469/469 [==============================] - 50s 107ms/step - loss: 0.0626 - accuracy: 0.9805\n",
      "Epoch 10/10\n",
      "469/469 [==============================] - 53s 112ms/step - loss: 0.0582 - accuracy: 0.9829\n",
      "\n",
      "Test accuracy: 99.2%\n"
     ]
    }
   ],
   "source": [
    "# Novo parâmetro da network - aumento do dropout:\n",
    "dropout = 0.8\n",
    "\n",
    "# Parâmetros da network:\n",
    "input_shape = (image_size, image_size, 1)    # O 1 significa que a imagem será processada em escala de cinza.\n",
    "batch_size = 128\n",
    "kernel_size = 3\n",
    "pool_size = 2\n",
    "filters = 64    # Dimensão do output da layer, cujo tamanho é definido pela complexidade do problema.\n",
    "\n",
    "\n",
    "# Modelo CNN-ReLU-MaxPooling:\n",
    "model = Sequential()    # Cria um modelo do tipo 'sequential', mais comum e simples, em que cada camada recebe exatamente um input e retorna apenas um output (input da camada seguinte).\n",
    "model.add(Conv2D(filters=filters,     # Adiciona uma camada de convolução com ativação não-linear \"relu\", mais básica.\n",
    "                 kernel_size=kernel_size,\n",
    "                 activation='relu',\n",
    "                 input_shape=input_shape))\n",
    "model.add(MaxPooling2D(pool_size))    # Adiciona uma camada de pooling.\n",
    "model.add(Conv2D(filters=filters,     # Adiciona a segunda camada de convolução com ativação \"relu\". \n",
    "                 kernel_size=kernel_size,\n",
    "                 activation='relu'))\n",
    "model.add(MaxPooling2D(pool_size))    # Adiciona a segunda camada de pooling.\n",
    "model.add(Conv2D(filters=filters,     # Adiciona a terceira camada de convolução com ativação \"ReLu\". \n",
    "                 kernel_size=kernel_size,\n",
    "                 activation='relu'))\n",
    "model.add(Flatten())    # Adiciona a camada flatten.\n",
    "model.add(Dropout(dropout))    # Adiciona a camada de dropout, regularizador.\n",
    "model.add(Dense(num_labels))    # Adiciona uma camada com 10 neurônios (número de labels) que estará completamente conectada com a anterior (dense).\n",
    "model.add(Activation('softmax'))    # Adiciona uma camada com a função de ativação \"softmax\"\n",
    "\n",
    "# Função de custo\n",
    "model.compile(loss='categorical_crossentropy',    # Define a função de custo, com otimizador básico 'adam' e métrica acurácia.\n",
    "              optimizer='adam',\n",
    "              metrics=['accuracy'])\n",
    "\n",
    "\n",
    "# Treina a network:\n",
    "model.fit(x_train, y_train, epochs=10, batch_size=batch_size)\n",
    "_, acc = model.evaluate(x_test,\n",
    "                        y_test,\n",
    "                        batch_size=batch_size,\n",
    "                        verbose=0)\n",
    "print(\"\\nTest accuracy: %.1f%%\" % (100.0 * acc))"
   ]
  },
  {
   "cell_type": "markdown",
   "id": "64f9c508",
   "metadata": {},
   "source": [
    "Com o aumento da porcentagem de neurônios que serão \"dropados\" da rede, observamos uma piora no treinamento: a acurácia caiu para 98.3% e o custo subiu para 0.05. Isso mostra que, se o valor de dropout for exacerbado, estaremos, mais do que evitando overfitting, atrapalhando o aprendizado de nossa network."
   ]
  },
  {
   "cell_type": "markdown",
   "id": "77097b7e",
   "metadata": {},
   "source": [
    "### Filters\n",
    "\n",
    "Um outro parâmetro que pode ser modificado são os filters de cada camada de convolução. Seu valor indica qual será a dimensão do output da layer, e, quanto maior a complexidade do problema, maior será o número de filters necessários. Abaixo, veremos o que ocorre quando diminuimos ou aumentamos esse parâmetro:"
   ]
  },
  {
   "cell_type": "code",
   "execution_count": 19,
   "id": "eb794a5b",
   "metadata": {},
   "outputs": [
    {
     "name": "stdout",
     "output_type": "stream",
     "text": [
      "Epoch 1/10\n",
      "469/469 [==============================] - 10s 21ms/step - loss: 0.8010 - accuracy: 0.7402\n",
      "Epoch 2/10\n",
      "469/469 [==============================] - 10s 21ms/step - loss: 0.2772 - accuracy: 0.9138\n",
      "Epoch 3/10\n",
      "469/469 [==============================] - 10s 21ms/step - loss: 0.2147 - accuracy: 0.9336\n",
      "Epoch 4/10\n",
      "469/469 [==============================] - 10s 22ms/step - loss: 0.1856 - accuracy: 0.9424\n",
      "Epoch 5/10\n",
      "469/469 [==============================] - 10s 20ms/step - loss: 0.1657 - accuracy: 0.9478\n",
      "Epoch 6/10\n",
      "469/469 [==============================] - 9s 20ms/step - loss: 0.1501 - accuracy: 0.9537\n",
      "Epoch 7/10\n",
      "469/469 [==============================] - 10s 22ms/step - loss: 0.1399 - accuracy: 0.9560\n",
      "Epoch 8/10\n",
      "469/469 [==============================] - 10s 20ms/step - loss: 0.1319 - accuracy: 0.9582\n",
      "Epoch 9/10\n",
      "469/469 [==============================] - 9s 20ms/step - loss: 0.1267 - accuracy: 0.9598\n",
      "Epoch 10/10\n",
      "469/469 [==============================] - 9s 20ms/step - loss: 0.1214 - accuracy: 0.9620\n",
      "\n",
      "Test accuracy: 97.9%\n"
     ]
    }
   ],
   "source": [
    "# Novo parâmetro da network - diminuição dos filters:\n",
    "filters = 8    # Dimensão do output da layer, cujo tamanho é definido pela complexidade do problema.\n",
    "\n",
    "\n",
    "# Parâmetros da network:\n",
    "input_shape = (image_size, image_size, 1)    # O 1 significa que a imagem será processada em escala de cinza.\n",
    "batch_size = 128\n",
    "kernel_size = 3\n",
    "pool_size = 2\n",
    "dropout = 0.2\n",
    "\n",
    "# Modelo CNN-ReLU-MaxPooling:\n",
    "model = Sequential()    # Cria um modelo do tipo 'sequential', mais comum e simples, em que cada camada recebe exatamente um input e retorna apenas um output (input da camada seguinte).\n",
    "model.add(Conv2D(filters=filters,     # Adiciona uma camada de convolução com ativação não-linear \"relu\", mais básica.\n",
    "                 kernel_size=kernel_size,\n",
    "                 activation='relu',\n",
    "                 input_shape=input_shape))\n",
    "model.add(MaxPooling2D(pool_size))    # Adiciona uma camada de pooling.\n",
    "model.add(Conv2D(filters=filters,     # Adiciona a segunda camada de convolução com ativação \"relu\". \n",
    "                 kernel_size=kernel_size,\n",
    "                 activation='relu'))\n",
    "model.add(MaxPooling2D(pool_size))    # Adiciona a segunda camada de pooling.\n",
    "model.add(Conv2D(filters=filters,     # Adiciona a terceira camada de convolução com ativação \"ReLu\". \n",
    "                 kernel_size=kernel_size,\n",
    "                 activation='relu'))\n",
    "model.add(Flatten())    # Adiciona a camada flatten.\n",
    "model.add(Dropout(dropout))    # Adiciona a camada de dropout, regularizador.\n",
    "model.add(Dense(num_labels))    # Adiciona uma camada com 10 neurônios (número de labels) que estará completamente conectada com a anterior (dense).\n",
    "model.add(Activation('softmax'))    # Adiciona uma camada com a função de ativação \"softmax\"\n",
    "\n",
    "# Função de custo\n",
    "model.compile(loss='categorical_crossentropy',    # Define a função de custo, com otimizador básico 'adam' e métrica acurácia.\n",
    "              optimizer='adam',\n",
    "              metrics=['accuracy'])\n",
    "\n",
    "\n",
    "# Treina a network:\n",
    "model.fit(x_train, y_train, epochs=10, batch_size=batch_size)\n",
    "_, acc = model.evaluate(x_test,\n",
    "                        y_test,\n",
    "                        batch_size=batch_size,\n",
    "                        verbose=0)\n",
    "print(\"\\nTest accuracy: %.1f%%\" % (100.0 * acc))"
   ]
  },
  {
   "cell_type": "markdown",
   "id": "4d8cfce8",
   "metadata": {},
   "source": [
    "Primeiramente observamos que, ao diminuirmos o tamanho dos filters (64 -> 8), reduzimos em 40 segundos o tempo de processamento de cada epoch. No entanto, por conta da simplificação do processo de aprendizagem da network, a acurácia piora (96%) e o custo aumenta (0.12), visto que a rede, muito provavelmente, assimilou apenas características mais básicas e gerais das imagens."
   ]
  },
  {
   "cell_type": "code",
   "execution_count": 20,
   "id": "459019b1",
   "metadata": {},
   "outputs": [
    {
     "name": "stdout",
     "output_type": "stream",
     "text": [
      "Epoch 1/10\n",
      "469/469 [==============================] - 230s 491ms/step - loss: 0.1676 - accuracy: 0.9475\n",
      "Epoch 2/10\n",
      "469/469 [==============================] - 232s 495ms/step - loss: 0.0445 - accuracy: 0.9867\n",
      "Epoch 3/10\n",
      "469/469 [==============================] - 246s 525ms/step - loss: 0.0308 - accuracy: 0.9903\n",
      "Epoch 4/10\n",
      "469/469 [==============================] - 225s 481ms/step - loss: 0.0253 - accuracy: 0.9918\n",
      "Epoch 5/10\n",
      "469/469 [==============================] - 235s 500ms/step - loss: 0.0181 - accuracy: 0.9944\n",
      "Epoch 6/10\n",
      "469/469 [==============================] - 239s 510ms/step - loss: 0.0156 - accuracy: 0.9951\n",
      "Epoch 7/10\n",
      "469/469 [==============================] - 232s 495ms/step - loss: 0.0140 - accuracy: 0.9955\n",
      "Epoch 8/10\n",
      "469/469 [==============================] - 225s 480ms/step - loss: 0.0113 - accuracy: 0.9965\n",
      "Epoch 9/10\n",
      "469/469 [==============================] - 228s 487ms/step - loss: 0.0086 - accuracy: 0.9974\n",
      "Epoch 10/10\n",
      "469/469 [==============================] - 223s 476ms/step - loss: 0.0080 - accuracy: 0.9975\n",
      "\n",
      "Test accuracy: 99.3%\n"
     ]
    }
   ],
   "source": [
    "# Novo parâmetro da network - aumento dos filters:\n",
    "filters = 192    # Dimensão do output da layer, cujo tamanho é definido pela complexidade do problema.\n",
    "\n",
    "\n",
    "# Parâmetros da network:\n",
    "input_shape = (image_size, image_size, 1)    # O 1 significa que a imagem será processada em escala de cinza.\n",
    "batch_size = 128\n",
    "kernel_size = 3\n",
    "pool_size = 2\n",
    "dropout = 0.2\n",
    "\n",
    "# Modelo CNN-ReLU-MaxPooling:\n",
    "model = Sequential()    # Cria um modelo do tipo 'sequential', mais comum e simples, em que cada camada recebe exatamente um input e retorna apenas um output (input da camada seguinte).\n",
    "model.add(Conv2D(filters=filters,     # Adiciona uma camada de convolução com ativação não-linear \"relu\", mais básica.\n",
    "                 kernel_size=kernel_size,\n",
    "                 activation='relu',\n",
    "                 input_shape=input_shape))\n",
    "model.add(MaxPooling2D(pool_size))    # Adiciona uma camada de pooling.\n",
    "model.add(Conv2D(filters=filters,     # Adiciona a segunda camada de convolução com ativação \"relu\". \n",
    "                 kernel_size=kernel_size,\n",
    "                 activation='relu'))\n",
    "model.add(MaxPooling2D(pool_size))    # Adiciona a segunda camada de pooling.\n",
    "model.add(Conv2D(filters=filters,     # Adiciona a terceira camada de convolução com ativação \"ReLu\". \n",
    "                 kernel_size=kernel_size,\n",
    "                 activation='relu'))\n",
    "model.add(Flatten())    # Adiciona a camada flatten.\n",
    "model.add(Dropout(dropout))    # Adiciona a camada de dropout, regularizador.\n",
    "model.add(Dense(num_labels))    # Adiciona uma camada com 10 neurônios (número de labels) que estará completamente conectada com a anterior (dense).\n",
    "model.add(Activation('softmax'))    # Adiciona uma camada com a função de ativação \"softmax\"\n",
    "\n",
    "# Função de custo\n",
    "model.compile(loss='categorical_crossentropy',    # Define a função de custo, com otimizador básico 'adam' e métrica acurácia.\n",
    "              optimizer='adam',\n",
    "              metrics=['accuracy'])\n",
    "\n",
    "\n",
    "# Treina a network:\n",
    "model.fit(x_train, y_train, epochs=10, batch_size=batch_size)\n",
    "_, acc = model.evaluate(x_test,\n",
    "                        y_test,\n",
    "                        batch_size=batch_size,\n",
    "                        verbose=0)\n",
    "print(\"\\nTest accuracy: %.1f%%\" % (100.0 * acc))"
   ]
  },
  {
   "cell_type": "markdown",
   "id": "c3a29ad6",
   "metadata": {},
   "source": [
    "Já uma maior quantidade de filters (64 -> 192) fez o tempo de processamento das epochs subir consideravelmente, e, embora tenha sido observado um aumento na acurácia do conjunto de treino (99.7%), a acurácia do teste não foi melhorada. Assim, podemos concluir que aumentar a quantidade de filters não é uma boa escolha, visto que o processamento levou um tempo desnecessariamente grande para resultar na mesma acurácia de teste que aquela obtida com 64 filters."
   ]
  },
  {
   "cell_type": "markdown",
   "id": "143d52ba",
   "metadata": {},
   "source": [
    "### Função de custo\n",
    "\n",
    "Em relação aos parâmetros encontrados na função de custo, podemos modificar o otimizador, visto que a métrica definida (acurácia) serve apenas para nos dar uma noção do desempenho da rede e não afeta seu aprendizado. Veja o que ocorre quando trocamos o otimizador Adam pelo SGD:"
   ]
  },
  {
   "cell_type": "code",
   "execution_count": 21,
   "id": "db473b62",
   "metadata": {},
   "outputs": [
    {
     "name": "stdout",
     "output_type": "stream",
     "text": [
      "Epoch 1/10\n",
      "469/469 [==============================] - 53s 112ms/step - loss: 1.5350 - accuracy: 0.5469\n",
      "Epoch 2/10\n",
      "469/469 [==============================] - 52s 112ms/step - loss: 0.4367 - accuracy: 0.8663\n",
      "Epoch 3/10\n",
      "469/469 [==============================] - 45s 97ms/step - loss: 0.2947 - accuracy: 0.9099\n",
      "Epoch 4/10\n",
      "469/469 [==============================] - 46s 98ms/step - loss: 0.2267 - accuracy: 0.9311\n",
      "Epoch 5/10\n",
      "469/469 [==============================] - 45s 97ms/step - loss: 0.1901 - accuracy: 0.9427\n",
      "Epoch 6/10\n",
      "469/469 [==============================] - 45s 97ms/step - loss: 0.1628 - accuracy: 0.9507\n",
      "Epoch 7/10\n",
      "469/469 [==============================] - 45s 96ms/step - loss: 0.1455 - accuracy: 0.9554\n",
      "Epoch 8/10\n",
      "469/469 [==============================] - 46s 97ms/step - loss: 0.1324 - accuracy: 0.9593\n",
      "Epoch 9/10\n",
      "469/469 [==============================] - 43s 93ms/step - loss: 0.1214 - accuracy: 0.9627\n",
      "Epoch 10/10\n",
      "469/469 [==============================] - 50s 107ms/step - loss: 0.1126 - accuracy: 0.9657\n",
      "\n",
      "Test accuracy: 97.6%\n"
     ]
    }
   ],
   "source": [
    "# Parâmetros da network:\n",
    "input_shape = (image_size, image_size, 1)    # O 1 significa que a imagem será processada em escala de cinza.\n",
    "batch_size = 128\n",
    "kernel_size = 3\n",
    "pool_size = 2\n",
    "dropout = 0.2\n",
    "filters = 64\n",
    "\n",
    "# Modelo CNN-ReLU-MaxPooling:\n",
    "model = Sequential()    # Cria um modelo do tipo 'sequential', mais comum e simples, em que cada camada recebe exatamente um input e retorna apenas um output (input da camada seguinte).\n",
    "model.add(Conv2D(filters=filters,     # Adiciona uma camada de convolução com ativação não-linear \"relu\", mais básica.\n",
    "                 kernel_size=kernel_size,\n",
    "                 activation='relu',\n",
    "                 input_shape=input_shape))\n",
    "model.add(MaxPooling2D(pool_size))    # Adiciona uma camada de pooling.\n",
    "model.add(Conv2D(filters=filters,     # Adiciona a segunda camada de convolução com ativação \"relu\". \n",
    "                 kernel_size=kernel_size,\n",
    "                 activation='relu'))\n",
    "model.add(MaxPooling2D(pool_size))    # Adiciona a segunda camada de pooling.\n",
    "model.add(Conv2D(filters=filters,     # Adiciona a terceira camada de convolução com ativação \"ReLu\". \n",
    "                 kernel_size=kernel_size,\n",
    "                 activation='relu'))\n",
    "model.add(Flatten())    # Adiciona a camada flatten.\n",
    "model.add(Dropout(dropout))    # Adiciona a camada de dropout, regularizador.\n",
    "model.add(Dense(num_labels))    # Adiciona uma camada com 10 neurônios (número de labels) que estará completamente conectada com a anterior (dense).\n",
    "model.add(Activation('softmax'))    # Adiciona uma camada com a função de ativação \"softmax\"\n",
    "\n",
    "# Função de custo\n",
    "model.compile(loss='categorical_crossentropy',    # Define a função de custo, com otimizador básico 'adam' e métrica acurácia.\n",
    "              optimizer='sgd',\n",
    "              metrics=['accuracy'])\n",
    "\n",
    "\n",
    "# Treina a network:\n",
    "model.fit(x_train, y_train, epochs=10, batch_size=batch_size)\n",
    "_, acc = model.evaluate(x_test,\n",
    "                        y_test,\n",
    "                        batch_size=batch_size,\n",
    "                        verbose=0)\n",
    "print(\"\\nTest accuracy: %.1f%%\" % (100.0 * acc))"
   ]
  },
  {
   "cell_type": "markdown",
   "id": "086fce41",
   "metadata": {},
   "source": [
    "O uso do otimizador SGD apresentou um resultado um pouco abaixo do que havíamos visto anteriormente: a acurácia de teste caiu para 96%. É interessante comparar os resultados obtidos neste caso porque, considerando que ambos os otimizadores vistos até então derivam do mesmo mecanismo de gradiente descendente estocástico, um melhor resultado pelo uso do Adam indica que seu \"upgrade\" não é em vão, visto que a constante adaptação da learning rate para cada peso resulta em uma melhora real no resultado da classificação."
   ]
  },
  {
   "cell_type": "code",
   "execution_count": 3,
   "id": "5d31d361",
   "metadata": {},
   "outputs": [
    {
     "name": "stdout",
     "output_type": "stream",
     "text": [
      "Epoch 1/10\n",
      "469/469 [==============================] - 49s 104ms/step - loss: 2.2496 - accuracy: 0.3060\n",
      "Epoch 2/10\n",
      "469/469 [==============================] - 48s 102ms/step - loss: 1.9214 - accuracy: 0.5429\n",
      "Epoch 3/10\n",
      "469/469 [==============================] - 47s 99ms/step - loss: 1.1141 - accuracy: 0.6993\n",
      "Epoch 4/10\n",
      "469/469 [==============================] - 48s 101ms/step - loss: 0.7120 - accuracy: 0.7926\n",
      "Epoch 5/10\n",
      "469/469 [==============================] - 46s 98ms/step - loss: 0.5729 - accuracy: 0.8278\n",
      "Epoch 6/10\n",
      "469/469 [==============================] - 46s 98ms/step - loss: 0.4994 - accuracy: 0.8509\n",
      "Epoch 7/10\n",
      "469/469 [==============================] - 46s 98ms/step - loss: 0.4530 - accuracy: 0.8631\n",
      "Epoch 8/10\n",
      "469/469 [==============================] - 47s 101ms/step - loss: 0.4151 - accuracy: 0.8742\n",
      "Epoch 9/10\n",
      "469/469 [==============================] - 48s 102ms/step - loss: 0.3887 - accuracy: 0.8833\n",
      "Epoch 10/10\n",
      "469/469 [==============================] - 46s 98ms/step - loss: 0.3652 - accuracy: 0.8886\n",
      "\n",
      "Test accuracy: 92.1%\n"
     ]
    }
   ],
   "source": [
    "# Parâmetros da network:\n",
    "input_shape = (image_size, image_size, 1)    # O 1 significa que a imagem será processada em escala de cinza.\n",
    "batch_size = 128\n",
    "kernel_size = 3\n",
    "pool_size = 2\n",
    "dropout = 0.2\n",
    "filters = 64\n",
    "\n",
    "# Modelo CNN-ReLU-MaxPooling:\n",
    "model = Sequential()    # Cria um modelo do tipo 'sequential', mais comum e simples, em que cada camada recebe exatamente um input e retorna apenas um output (input da camada seguinte).\n",
    "model.add(Conv2D(filters=filters,     # Adiciona uma camada de convolução com ativação não-linear \"relu\", mais básica.\n",
    "                 kernel_size=kernel_size,\n",
    "                 activation='relu',\n",
    "                 input_shape=input_shape))\n",
    "model.add(MaxPooling2D(pool_size))    # Adiciona uma camada de pooling.\n",
    "model.add(Conv2D(filters=filters,     # Adiciona a segunda camada de convolução com ativação \"relu\". \n",
    "                 kernel_size=kernel_size,\n",
    "                 activation='relu'))\n",
    "model.add(MaxPooling2D(pool_size))    # Adiciona a segunda camada de pooling.\n",
    "model.add(Conv2D(filters=filters,     # Adiciona a terceira camada de convolução com ativação \"ReLu\". \n",
    "                 kernel_size=kernel_size,\n",
    "                 activation='relu'))\n",
    "model.add(Flatten())    # Adiciona a camada flatten.\n",
    "model.add(Dropout(dropout))    # Adiciona a camada de dropout, regularizador.\n",
    "model.add(Dense(num_labels))    # Adiciona uma camada com 10 neurônios (número de labels) que estará completamente conectada com a anterior (dense).\n",
    "model.add(Activation('softmax'))    # Adiciona uma camada com a função de ativação \"softmax\"\n",
    "\n",
    "# Função de custo\n",
    "model.compile(loss='categorical_crossentropy',    # Define a função de custo, com otimizador básico 'adam' e métrica acurácia.\n",
    "              optimizer='adagrad',\n",
    "              metrics=['accuracy'])\n",
    "\n",
    "\n",
    "# Treina a network:\n",
    "model.fit(x_train, y_train, epochs=10, batch_size=batch_size)\n",
    "_, acc = model.evaluate(x_test,\n",
    "                        y_test,\n",
    "                        batch_size=batch_size,\n",
    "                        verbose=0)\n",
    "print(\"\\nTest accuracy: %.1f%%\" % (100.0 * acc))"
   ]
  },
  {
   "cell_type": "markdown",
   "id": "5d109e6c",
   "metadata": {},
   "source": [
    "Já o Adagrad apresenta resultados ainda piores, com acurácia de 89% em treino e 92% em teste. Utilizando diferentes learning rates para cada iteração, o Adagrad performa updates menores (baixa learning rate) para features frequentes e updates maiores  (alta learning rate) para features pouco frequentes, sendo, portanto, útil para datasets com dados esparsos."
   ]
  },
  {
   "cell_type": "markdown",
   "id": "aa23c7af",
   "metadata": {},
   "source": [
    "# Exercício 2\n",
    "\n",
    "##### Neste exercício o aluno deverá criar uma rede neural convolucional (CNN) para reconhecer (detectar) objetos em imagens, utilizando o Toolbox Deep Learning e outros do Matlab.\n",
    "\n",
    "##### Metodologia a ser utilizada: baixar o banco de dados de imagens CIFAR – 10 e criar uma CNN de acordo com o código disponível em: https://www.mathworks.com/help/vision/examples/object-detection-using-deep-learning.html?stid=srchtitle\n",
    "\n",
    "##### - imageInputLayer – Camada de entrada de imagem\n",
    "\n",
    "##### - convolution2dLayer – Camada de convolução 2D para RNs convolucionais\n",
    "\n",
    "##### - reluLayer – Camada de unidade linear retificada (ReLu)\n",
    "\n",
    "##### - maxPooling2dLayer - Camada de max pooling\n",
    "\n",
    "##### - fullyConnectedLayer – Camada totalmente conectada\n",
    "\n",
    "##### - softmaxLayer – Camada softmax\n",
    "\n",
    "##### - classificationLayer – Camada de saída de classificação\n",
    "\n",
    "##### Treinar a CNN com o CIFAR – 10 e validar o treinamento da CNN com o CIFAR – 10; obter imagens (fotos) com objetos a serem reconhecidos (veículos, animais domésticos, etc.). Utilizar a técnica de transferência de aprendizado para sintonia fina da rede para detectar os objetos escolhidos."
   ]
  },
  {
   "cell_type": "markdown",
   "id": "b765d5d3",
   "metadata": {},
   "source": [
    "## Resolução:"
   ]
  },
  {
   "cell_type": "markdown",
   "id": "702f2c18",
   "metadata": {},
   "source": [
    "Primeiramente, importaremos as bibliotecas que serão utilizadas:"
   ]
  },
  {
   "cell_type": "code",
   "execution_count": 370,
   "id": "7a158dda",
   "metadata": {},
   "outputs": [],
   "source": [
    "# Importa as bibliotecas e o conjunto de dados:\n",
    "import tensorflow as tf\n",
    "import numpy as np\n",
    "import pandas as pd\n",
    "import matplotlib.pyplot as plt\n",
    "\n",
    "from tensorflow import keras\n",
    "\n",
    "from keras.optimizers import SGD\n",
    "from keras.datasets import cifar10\n",
    "\n",
    "from tensorflow.keras.models import Sequential\n",
    "from tensorflow.keras.layers import Dense, Dropout\n",
    "from tensorflow.keras.layers import Conv2D, MaxPooling2D, Flatten\n",
    "from tensorflow.keras.utils import to_categorical, plot_model\n",
    "from tensorflow.keras.layers import BatchNormalization, Conv2D\n",
    "from tensorflow.keras.layers import MaxPool2D, Activation, MaxPooling2D\n",
    "from keras.utils import np_utils as utils\n",
    "from keras.preprocessing.image import img_to_array\n",
    "\n",
    "from tensorflow.keras.datasets import cifar10 as cifar"
   ]
  },
  {
   "cell_type": "markdown",
   "id": "bfbbdbc4",
   "metadata": {},
   "source": [
    "Em seguida, carregaremos e trataremos os dados do dataset. Conforme pede o enunciado, utilizaremos o banco de dados CIFAR-10, que consiste em uma coleção de 60000 imagens coloridas de 10 diferentes classes (labels) em dimensões 32x32 pixels. Cada classe apresenta 6000 imagens, e são representadas pelos seguintes rótulos: 'airplane', 'automobile', 'bird', 'cat', 'deer', 'dog', 'frog', 'horse', 'ship', 'truck'."
   ]
  },
  {
   "cell_type": "code",
   "execution_count": 371,
   "id": "f385107d",
   "metadata": {},
   "outputs": [],
   "source": [
    "# Carrega e divide o dataset:\n",
    "(x_train, y_train), (x_test, y_test) = cifar.load_data()\n",
    "\n",
    "# Redimensiona e normaliza cada imagem que compõe o dataset para que todas possuam tamanhos iguais:\n",
    "x_train = x_train/255\n",
    "x_test = x_test/255\n",
    "     \n",
    "# Nomeia os rótulos (labels) possíveis, já que o nome das classes não são incluídas na base de dados:\n",
    "label = ['airplane', 'automobile', 'bird', 'cat', 'deer', 'dog', 'frog', 'horse', 'ship', 'truck']\n",
    "\n",
    "# Computa o número de rótulos (labels) possíveis:\n",
    "num_labels = len(label)"
   ]
  },
  {
   "cell_type": "markdown",
   "id": "4efb39c3",
   "metadata": {},
   "source": [
    "Agora que os dados estão devidamente tratados, podemos prosseguir para a criação do modelo; mas, antes, relembraremos e explicaremos algumas funções que estarão presentes nas camadas da network, como:\n",
    "\n",
    "- Conv2D: já visto no exercício anterior, agora terá seus valores como filter_size = 64 e kernel_size = (3, 3);\n",
    "- MaxPooling2D, Flatten, Dropout, Dense e Softmax: também vistos no exercício anterior, cumprirão a mesma função;\n",
    "- BatchNormalization: camada que normaliza os inputs, importante para tornar o treino mais estável e rápido.\n",
    "\n",
    "Assim como no exercício passado, ao final também será estabelecida uma função de custo, responsável por avaliar a performance da máquina estimando o quão grande é a diferença entre o output predito e o output verdadeiro. Utilizaremos o otimizador \"Adam\" (adaptive moment estimation) e tomaremos a acurácia como métrica para verificar o desempenho da rede."
   ]
  },
  {
   "cell_type": "code",
   "execution_count": 372,
   "id": "76d2ddb1",
   "metadata": {},
   "outputs": [],
   "source": [
    "# Parâmetros da network:\n",
    "input_shape = (32, 32, 3)    # O 3 significa que a imagem será processada em cores.\n",
    "kernel_size = (3, 3)    # Tupla indicando altura e largura.\n",
    "pool_size = (2, 2)\n",
    "filters = 64    # Dimensão do output da layer, cujo tamanho é definido pela complexidade do problema.\n",
    "dropout = 0.2\n",
    "\n",
    "# Modelo CNN-ReLU-MaxPooling:\n",
    "model = Sequential()    # Cria um modelo do tipo 'sequential', mais comum e simples, em que cada camada recebe exatamente um input e retorna apenas um output (input da camada seguinte).\n",
    "model.add(Conv2D(filters=filters,     # Adiciona uma camada de convolução com ativação não-linear \"relu\", mais básica.\n",
    "                 kernel_size=kernel_size,\n",
    "                 activation='relu'))\n",
    "model.add(MaxPooling2D(pool_size))    # Adiciona uma camada de pooling.\n",
    "model.add(BatchNormalization())     # Adiciona uma camada de \"normalização em lote\".\n",
    "model.add(Flatten(input_shape=input_shape))    # Adiciona a camada flatten.\n",
    "model.add(Dropout(dropout))    # Adiciona a camada de dropout, regularizador.\n",
    "model.add(Dense(num_labels))    # Adiciona uma camada com 10 neurônios (número de labels) que estará completamente conectada com a anterior (dense).\n",
    "model.add(Activation('softmax'))    # Adiciona uma camada com a função de ativação \"softmax\"\n",
    "\n",
    "# Função de custo\n",
    "model.compile(loss='sparse_categorical_crossentropy',    # Define a função de custo, com otimizador básico 'adam' e métrica acurácia.\n",
    "              optimizer='adam',\n",
    "              metrics=['accuracy'])"
   ]
  },
  {
   "cell_type": "code",
   "execution_count": 373,
   "id": "b089d9a8",
   "metadata": {},
   "outputs": [
    {
     "name": "stdout",
     "output_type": "stream",
     "text": [
      "Epoch 1/10\n",
      "1094/1094 [==============================] - 49s 45ms/step - loss: 1.4733 - accuracy: 0.4863 - val_loss: 1.6692 - val_accuracy: 0.4777\n",
      "Epoch 2/10\n",
      "1094/1094 [==============================] - 46s 42ms/step - loss: 1.1968 - accuracy: 0.5863 - val_loss: 2.1562 - val_accuracy: 0.4198\n",
      "Epoch 3/10\n",
      "1094/1094 [==============================] - 40s 37ms/step - loss: 1.1017 - accuracy: 0.6196 - val_loss: 1.2326 - val_accuracy: 0.5789\n",
      "Epoch 4/10\n",
      "1094/1094 [==============================] - 40s 36ms/step - loss: 1.0307 - accuracy: 0.6383 - val_loss: 1.5500 - val_accuracy: 0.5351\n",
      "Epoch 5/10\n",
      "1094/1094 [==============================] - 40s 37ms/step - loss: 0.9707 - accuracy: 0.6594 - val_loss: 1.3826 - val_accuracy: 0.5437\n",
      "Epoch 6/10\n",
      "1094/1094 [==============================] - 42s 38ms/step - loss: 0.9155 - accuracy: 0.6809 - val_loss: 1.2218 - val_accuracy: 0.6003\n",
      "Epoch 7/10\n",
      "1094/1094 [==============================] - 40s 36ms/step - loss: 0.8721 - accuracy: 0.6968 - val_loss: 1.4896 - val_accuracy: 0.5306\n",
      "Epoch 8/10\n",
      "1094/1094 [==============================] - 39s 36ms/step - loss: 0.8392 - accuracy: 0.7047 - val_loss: 1.7304 - val_accuracy: 0.4945\n",
      "Epoch 9/10\n",
      "1094/1094 [==============================] - 45s 41ms/step - loss: 0.7967 - accuracy: 0.7196 - val_loss: 1.3202 - val_accuracy: 0.6014\n",
      "Epoch 10/10\n",
      "1094/1094 [==============================] - 44s 40ms/step - loss: 0.7684 - accuracy: 0.7299 - val_loss: 1.5516 - val_accuracy: 0.5595\n",
      "313/313 [==============================] - 3s 8ms/step - loss: 1.5389 - accuracy: 0.5563\n",
      "\n",
      "Test accuracy: 55.6%\n"
     ]
    }
   ],
   "source": [
    "# Treina a network:\n",
    "model.fit(x_train, y_train, epochs=10, verbose=1, validation_split=0.3)\n",
    "_, acc = model.evaluate(x_test,\n",
    "                        y_test,\n",
    "                        verbose=1)\n",
    "print(\"\\nTest accuracy: %.1f%%\" % (100.0 * acc))"
   ]
  },
  {
   "cell_type": "markdown",
   "id": "2ee3de0f",
   "metadata": {},
   "source": [
    "Após 20 epochs, o nosso modelo se apresenta devidamente testado, atingindo uma acurácia de 73% no conjunto de treino e de 55% no conjunto de teste, além de um custo de apenas 0.76. Embora os valores obtidos sejam piores que aqueles atingidos no exercício 1, devemos considerar que este prolema de predição é consideravelmente mais complexo.\n",
    "\n",
    "Com a network suficientemente treinada, verificaremos agora se nosso modelo é capaz de detectar objetos com uma boa taxa de acerto. Para isso, aplicaremos o método model.predict em nossos dados de teste, que deverá prever o rótulo das imagens fornecidas por esse conjunto através da criação de diversas arrays com 10 valores de probabilidade cada - isto é, um valor de probabilidade para cada classe existente. Observe:"
   ]
  },
  {
   "cell_type": "code",
   "execution_count": 374,
   "id": "7cfc31d1",
   "metadata": {},
   "outputs": [],
   "source": [
    "# Prevê o rótulo de cada imagem do conjunto de teste, criando arrays com 10 valores de probabilidade.\n",
    "predictions = model.predict(x_test)\n",
    "\n",
    "# Transforma as arrays de valores de probabilidade em um único número, referente ao rótulo mais provável.\n",
    "predicted_labels = []\n",
    "for array in predictions:\n",
    "    predicted_labels.append(np.argmax(array))    # O argmax retorna o índice de maior valor da array (ou seja, o rótulo com maior probabilidade prevista)"
   ]
  },
  {
   "cell_type": "code",
   "execution_count": 375,
   "id": "cce3a7db",
   "metadata": {},
   "outputs": [
    {
     "name": "stdout",
     "output_type": "stream",
     "text": [
      "O número de predições realizadas para cada classe foi: \n",
      "airplane: 1432 \n",
      "automobile: 1158 \n",
      "bird: 1942 \n",
      "cat: 907 \n",
      "deer: 231 \n",
      "dog: 1249 \n",
      "frog: 934 \n",
      "horse: 649 \n",
      "ship: 923 \n",
      "truck: 575\n"
     ]
    }
   ],
   "source": [
    "# Usa o método .count() para verificar o número de predições de cada classe.\n",
    "print('O número de predições realizadas para cada classe foi:',\n",
    "      '\\nairplane:', predicted_labels.count(0), \n",
    "      '\\nautomobile:', predicted_labels.count(1), \n",
    "      '\\nbird:', predicted_labels.count(2),\n",
    "      '\\ncat:', predicted_labels.count(3),\n",
    "      '\\ndeer:', predicted_labels.count(4),\n",
    "      '\\ndog:', predicted_labels.count(5),\n",
    "      '\\nfrog:', predicted_labels.count(6), \n",
    "      '\\nhorse:', predicted_labels.count(7), \n",
    "      '\\nship:', predicted_labels.count(8), \n",
    "      '\\ntruck:', predicted_labels.count(9))"
   ]
  },
  {
   "cell_type": "markdown",
   "id": "e7ebedb6",
   "metadata": {},
   "source": [
    "Considerando que cada classe deveria, idealmente, conter 1000 imagens nos dados de teste, o número de predições de nosso modelo pode nos indicar quais classes são as mais problemáticas. É óbvio que não necessariamente as classes \"dog\" ou \"automobile\", por exemplo, são as mais corretamente classificadas apenas por apresentarem números próximos a 1000 ocorrências, já que, só com esses dados, não sabemos quantas dessas classificações foram, de fato, exatas; no entanto, podemos ao menos dizer que a classe \"horse\" é a mais incerta por apresentar um baixo número de predições, o que indica que a network não foi capaz de compreender precisamente suas características, frequentemente confundindo-a com outros rótulos. "
   ]
  },
  {
   "cell_type": "markdown",
   "id": "63c7ee68",
   "metadata": {},
   "source": [
    "### Detecção de objetos "
   ]
  },
  {
   "cell_type": "markdown",
   "id": "a588ab7a",
   "metadata": {},
   "source": [
    "Verificaremos agora como o nosso classificador se comporta diante de dados completamente novos, que não pertencem nem ao conjunto de treino e nem ao de teste. Para isso, pegaremos algumas fotos pessoais que se encaixem nos rótulos anteriormente citados e veremos se o nosso modelo é capaz de predizer corretamente a sua classe.\n",
    "\n",
    "Vamos começar importando a biblioteca OpenCV, essencial para a leitura e processamento de novas imagens:"
   ]
  },
  {
   "cell_type": "code",
   "execution_count": 376,
   "id": "e74e51a4",
   "metadata": {},
   "outputs": [],
   "source": [
    "# Importa a biblioteca necessária:\n",
    "import cv2"
   ]
  },
  {
   "cell_type": "markdown",
   "id": "0c187607",
   "metadata": {},
   "source": [
    "Agora, seguiremos os seguintes passos:\n",
    "- 1: Leremos a image com a biblioteca opencv, própria para Visão Computacional;\n",
    "- 2: Dado que esta biblioteca lê a imagem em formato BGR (ou, de modo simplificado, em tons de azul), arrumaremos as cores para o formato RGB\n",
    "- 3: Exibiremos a imagem com o matplotlib"
   ]
  },
  {
   "cell_type": "code",
   "execution_count": 377,
   "id": "7327f651",
   "metadata": {},
   "outputs": [
    {
     "data": {
      "text/plain": [
       "<matplotlib.image.AxesImage at 0x2a456434048>"
      ]
     },
     "execution_count": 377,
     "metadata": {},
     "output_type": "execute_result"
    },
    {
     "data": {
      "image/png": "[encoded data removed]",
      "text/plain": [
       "<Figure size 432x288 with 1 Axes>"
      ]
     },
     "metadata": {
      "needs_background": "light"
     },
     "output_type": "display_data"
    }
   ],
   "source": [
    "# Lê a imagem:\n",
    "img = cv2.imread('Screenshot_20221213-111915.png')\n",
    "\n",
    "# Troca as cores \"azuladas\" (BGR) pelos tons corretos (RGB):\n",
    "img = cv2.cvtColor(img, cv2.COLOR_BGR2RGB)\n",
    "\n",
    "plt.imshow(img)"
   ]
  },
  {
   "cell_type": "markdown",
   "id": "768d45c7",
   "metadata": {},
   "source": [
    "Com a imagem exportada, o nosso próximo passo será tratá-la, adequando-a aos parâmetros seguidos pelo banco de dados CIFAR-10 e pelo modelo que criamos. Para isso, precisaremos redimensionar a imagem, que deverá ser composta por 32x32 pixels."
   ]
  },
  {
   "cell_type": "code",
   "execution_count": 378,
   "id": "6fff8eb6",
   "metadata": {},
   "outputs": [
    {
     "data": {
      "text/plain": [
       "<matplotlib.image.AxesImage at 0x2a4620a3fc8>"
      ]
     },
     "execution_count": 378,
     "metadata": {},
     "output_type": "execute_result"
    },
    {
     "data": {
      "image/png": "[encoded data removed]",
      "text/plain": [
       "<Figure size 432x288 with 1 Axes>"
      ]
     },
     "metadata": {
      "needs_background": "light"
     },
     "output_type": "display_data"
    }
   ],
   "source": [
    "# Redimensiona a imagem para 32x32 pixels:\n",
    "new_size = 32\n",
    "resized_image = cv2.resize(img, (new_size, new_size))\n",
    "\n",
    "plt.imshow(resized_image)"
   ]
  },
  {
   "cell_type": "markdown",
   "id": "7a2e08de",
   "metadata": {},
   "source": [
    "Finalmente, podemos prever um rótulo para a imagem:"
   ]
  },
  {
   "cell_type": "code",
   "execution_count": 387,
   "id": "8a4cf6b8",
   "metadata": {},
   "outputs": [
    {
     "name": "stdout",
     "output_type": "stream",
     "text": [
      "O rótulo previsto para a imagem fornecida é: 3\n"
     ]
    }
   ],
   "source": [
    "# Prevê o rótulo da imagem, criando uma array com 10 valores de probabilidade:\n",
    "prediction = model.predict(np.expand_dims(resized_image / 255, 0))    # Dividimos por 255 para reescalar (rescale).\n",
    "\n",
    "# Transforma a array de valores de probabilidade em um único número, referente ao rótulo mais provável:\n",
    "label = np.argmax(prediction)\n",
    "\n",
    "print('O rótulo previsto para a imagem fornecida é:', label)"
   ]
  },
  {
   "cell_type": "markdown",
   "id": "2dcc2c62",
   "metadata": {},
   "source": [
    "Considerando que o número 3 corresponde ao rótulo \"cat\", a previsão de classe foi um sucesso! Vamos testar outras imagens:"
   ]
  },
  {
   "cell_type": "code",
   "execution_count": 403,
   "id": "13854ace",
   "metadata": {},
   "outputs": [
    {
     "data": {
      "image/png": "[encoded data removed]",
      "text/plain": [
       "<Figure size 432x288 with 1 Axes>"
      ]
     },
     "metadata": {
      "needs_background": "light"
     },
     "output_type": "display_data"
    },
    {
     "data": {
      "image/png": "[encoded data removed]",
      "text/plain": [
       "<Figure size 432x288 with 1 Axes>"
      ]
     },
     "metadata": {
      "needs_background": "light"
     },
     "output_type": "display_data"
    },
    {
     "data": {
      "image/png": "[encoded data removed]",
      "text/plain": [
       "<Figure size 432x288 with 1 Axes>"
      ]
     },
     "metadata": {
      "needs_background": "light"
     },
     "output_type": "display_data"
    },
    {
     "name": "stdout",
     "output_type": "stream",
     "text": [
      "O rótulo previsto para a imagem fornecida é: 5\n",
      "O rótulo previsto para a imagem fornecida é: 4\n",
      "O rótulo previsto para a imagem fornecida é: 1\n"
     ]
    }
   ],
   "source": [
    "# Lê as imagens:\n",
    "img2 = cv2.imread('IMG-20221213-WA0013_2.png')\n",
    "img3 = cv2.imread('IMG_20210919_135416534.png')\n",
    "img4 = cv2.imread('Screenshot_20221213-112459.png')\n",
    "\n",
    "# Troca as cores \"azuladas\" (BGR) pelos tons corretos (RGB):\n",
    "img2 = cv2.cvtColor(img2, cv2.COLOR_BGR2RGB)\n",
    "img3 = cv2.cvtColor(img3, cv2.COLOR_BGR2RGB)\n",
    "img4 = cv2.cvtColor(img4, cv2.COLOR_BGR2RGB)\n",
    "\n",
    "# Redimensiona a imagem para 32x32 pixels e mostra sua nova versão:\n",
    "new_size = 32\n",
    "resized_image2 = cv2.resize(img2, (new_size, new_size))\n",
    "plt.imshow(resized_image2)\n",
    "plt.show()\n",
    "resized_image3 = cv2.resize(img3, (new_size, new_size))\n",
    "plt.imshow(resized_image3)\n",
    "plt.show()\n",
    "resized_image4 = cv2.resize(img4, (new_size, new_size))\n",
    "plt.imshow(resized_image4)\n",
    "plt.show()\n",
    "\n",
    "# Prevê o rótulo da imagem, criando uma array com 10 valores de probabilidade:\n",
    "prediction2 = model.predict(np.expand_dims(resized_image2 / 255, 0))\n",
    "prediction3 = model.predict(np.expand_dims(resized_image3 / 255, 0))\n",
    "prediction4 = model.predict(np.expand_dims(resized_image4 / 255, 0))\n",
    "\n",
    "# Transforma a array de valores de probabilidade em um único número, referente ao rótulo mais provável:\n",
    "label2 = np.argmax(prediction2)\n",
    "label3 = np.argmax(prediction3)\n",
    "label4 = np.argmax(prediction4)\n",
    "\n",
    "print('O rótulo previsto para a imagem fornecida é:', label2)\n",
    "print('O rótulo previsto para a imagem fornecida é:', label3)\n",
    "print('O rótulo previsto para a imagem fornecida é:', label4)"
   ]
  },
  {
   "cell_type": "markdown",
   "id": "55478d0f",
   "metadata": {},
   "source": [
    "Das 3 imagens acima, o modelo foi capaz de prever corretamente a primeira (\"dog\") e a última (\"automobile\"), falhando apenas na segunda, que não foi reconhecida como um pássaro. Assim, concluímos que, apesar de apresentar certas falhas e dificuldades, o modelo construído foi, sim, capaz de detectar objetos dentro de seu limite."
   ]
  }
 ],
 "metadata": {
  "kernelspec": {
   "display_name": "Python 3 (ipykernel)",
   "language": "python",
   "name": "python3"
  },
  "language_info": {
   "codemirror_mode": {
    "name": "ipython",
    "version": 3
   },
   "file_extension": ".py",
   "mimetype": "text/x-python",
   "name": "python",
   "nbconvert_exporter": "python",
   "pygments_lexer": "ipython3",
   "version": "3.7.13"
  }
 },
 "nbformat": 4,
 "nbformat_minor": 5
}
