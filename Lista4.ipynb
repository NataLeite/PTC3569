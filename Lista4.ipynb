{
 "cells": [
  {
   "cell_type": "markdown",
   "id": "7a18568c",
   "metadata": {},
   "source": [
    "# Resolução da folha de exercícios n.° 4 da matéria PTC-3569, \"Introdução à Inteligência Computacional\", ministrada pelo Prof. Dr. Ademar Ferreira\n",
    "Aluna: Renata Leite Leandro, N.° USP: 11246993"
   ]
  },
  {
   "cell_type": "markdown",
   "id": "9140f113",
   "metadata": {},
   "source": [
    "## Introdução\n",
    "Usaremos os seguintes pacotes para a resolução do exercício:"
   ]
  },
  {
   "cell_type": "code",
   "execution_count": 59,
   "id": "5995aa41",
   "metadata": {},
   "outputs": [],
   "source": [
    "import pandas as pd\n",
    "import matplotlib.pyplot as plt\n",
    "import seaborn as sns\n",
    "import numpy as np\n",
    "import math\n",
    "import mpmath\n",
    "import scipy.stats as stats"
   ]
  },
  {
   "cell_type": "code",
   "execution_count": 60,
   "id": "27e67083",
   "metadata": {},
   "outputs": [],
   "source": [
    "from random import random\n",
    "from random import seed\n",
    "from mpmath import *\n",
    "from sklearn.metrics import mean_absolute_error"
   ]
  },
  {
   "cell_type": "markdown",
   "id": "3c8ee0d5",
   "metadata": {},
   "source": [
    "E, para uma boa visualização dos gráficos que serão plotados, usamos os seguintes comandos:"
   ]
  },
  {
   "cell_type": "code",
   "execution_count": 61,
   "id": "7ed7da22",
   "metadata": {},
   "outputs": [],
   "source": [
    "# Adiciona linhas no background dos gráficos, facilitando a visualização\n",
    "custom_params = {\"axes.spines.right\": False, \"axes.spines.top\": False}\n",
    "sns.set(style=\"whitegrid\", rc=custom_params)"
   ]
  },
  {
   "cell_type": "markdown",
   "id": "3b0e9ff8",
   "metadata": {},
   "source": [
    "# Objetivo geral do exercício\n",
    "\n",
    "##### Neste exercício será utilizado o algoritmo Backpropagation para classificação de dados. Propõe-se que se faça um programa com uma camada escondida para classificar um determinado conjunto de dados, utilizando a função de ativação tanh. É necessário que se possa variar o número de nós da camada escondida, de modo a escolher o caso de melhor desempenho. Ademais, as entradas devem ser normalizadas para média nula e variância unitária, e o critério de parada utilizado será o gradiente do erro médio quadrático. Pede-se ainda que sejam feitas uma versão em batelada e outra em amostra por amostra."
   ]
  },
  {
   "cell_type": "markdown",
   "id": "5db92cd8",
   "metadata": {},
   "source": [
    "## Resolução:"
   ]
  },
  {
   "cell_type": "markdown",
   "id": "99032d63",
   "metadata": {},
   "source": [
    "Vamos começar pela leitura e organização de nosso conjunto de dados, fornecido através de um simples arquivo .txt:"
   ]
  },
  {
   "cell_type": "code",
   "execution_count": 62,
   "id": "57c824db",
   "metadata": {},
   "outputs": [],
   "source": [
    "# Leitura dos dados enviados em arquivo .txt:\n",
    "df_treino = pd.read_fwf('Anexo 1 da Lista 4 - treina.txt', names=['input1', 'input2', 'input3', 'input4', 'output'])\n",
    "df_teste = pd.read_fwf('Anexo 2 da Lista 4 - teste.txt', names=['input1', 'input2', 'input3', 'input4'])"
   ]
  },
  {
   "cell_type": "code",
   "execution_count": 63,
   "id": "c14707c4",
   "metadata": {},
   "outputs": [
    {
     "data": {
      "text/html": [
       "<div>\n",
       "<style scoped>\n",
       "    .dataframe tbody tr th:only-of-type {\n",
       "        vertical-align: middle;\n",
       "    }\n",
       "\n",
       "    .dataframe tbody tr th {\n",
       "        vertical-align: top;\n",
       "    }\n",
       "\n",
       "    .dataframe thead th {\n",
       "        text-align: right;\n",
       "    }\n",
       "</style>\n",
       "<table border=\"1\" class=\"dataframe\">\n",
       "  <thead>\n",
       "    <tr style=\"text-align: right;\">\n",
       "      <th></th>\n",
       "      <th>input1</th>\n",
       "      <th>input2</th>\n",
       "      <th>input3</th>\n",
       "      <th>input4</th>\n",
       "      <th>output</th>\n",
       "    </tr>\n",
       "  </thead>\n",
       "  <tbody>\n",
       "    <tr>\n",
       "      <th>0</th>\n",
       "      <td>6.7</td>\n",
       "      <td>3.3</td>\n",
       "      <td>5.7</td>\n",
       "      <td>2.1</td>\n",
       "      <td>3</td>\n",
       "    </tr>\n",
       "    <tr>\n",
       "      <th>1</th>\n",
       "      <td>5.1</td>\n",
       "      <td>3.8</td>\n",
       "      <td>1.5</td>\n",
       "      <td>0.3</td>\n",
       "      <td>1</td>\n",
       "    </tr>\n",
       "    <tr>\n",
       "      <th>2</th>\n",
       "      <td>7.2</td>\n",
       "      <td>3.2</td>\n",
       "      <td>6.0</td>\n",
       "      <td>1.8</td>\n",
       "      <td>3</td>\n",
       "    </tr>\n",
       "    <tr>\n",
       "      <th>3</th>\n",
       "      <td>6.2</td>\n",
       "      <td>2.8</td>\n",
       "      <td>4.8</td>\n",
       "      <td>1.8</td>\n",
       "      <td>3</td>\n",
       "    </tr>\n",
       "    <tr>\n",
       "      <th>4</th>\n",
       "      <td>5.0</td>\n",
       "      <td>3.4</td>\n",
       "      <td>1.6</td>\n",
       "      <td>0.4</td>\n",
       "      <td>1</td>\n",
       "    </tr>\n",
       "  </tbody>\n",
       "</table>\n",
       "</div>"
      ],
      "text/plain": [
       "   input1  input2  input3  input4  output\n",
       "0     6.7     3.3     5.7     2.1       3\n",
       "1     5.1     3.8     1.5     0.3       1\n",
       "2     7.2     3.2     6.0     1.8       3\n",
       "3     6.2     2.8     4.8     1.8       3\n",
       "4     5.0     3.4     1.6     0.4       1"
      ]
     },
     "execution_count": 63,
     "metadata": {},
     "output_type": "execute_result"
    }
   ],
   "source": [
    "df_treino.head()"
   ]
  },
  {
   "cell_type": "code",
   "execution_count": 64,
   "id": "7af0b969",
   "metadata": {},
   "outputs": [
    {
     "data": {
      "text/html": [
       "<div>\n",
       "<style scoped>\n",
       "    .dataframe tbody tr th:only-of-type {\n",
       "        vertical-align: middle;\n",
       "    }\n",
       "\n",
       "    .dataframe tbody tr th {\n",
       "        vertical-align: top;\n",
       "    }\n",
       "\n",
       "    .dataframe thead th {\n",
       "        text-align: right;\n",
       "    }\n",
       "</style>\n",
       "<table border=\"1\" class=\"dataframe\">\n",
       "  <thead>\n",
       "    <tr style=\"text-align: right;\">\n",
       "      <th></th>\n",
       "      <th>input1</th>\n",
       "      <th>input2</th>\n",
       "      <th>input3</th>\n",
       "      <th>input4</th>\n",
       "    </tr>\n",
       "  </thead>\n",
       "  <tbody>\n",
       "    <tr>\n",
       "      <th>0</th>\n",
       "      <td>5.7</td>\n",
       "      <td>2.8</td>\n",
       "      <td>4.1</td>\n",
       "      <td>1.3</td>\n",
       "    </tr>\n",
       "    <tr>\n",
       "      <th>1</th>\n",
       "      <td>7.6</td>\n",
       "      <td>3.0</td>\n",
       "      <td>6.6</td>\n",
       "      <td>2.1</td>\n",
       "    </tr>\n",
       "    <tr>\n",
       "      <th>2</th>\n",
       "      <td>4.9</td>\n",
       "      <td>2.5</td>\n",
       "      <td>4.5</td>\n",
       "      <td>1.7</td>\n",
       "    </tr>\n",
       "    <tr>\n",
       "      <th>3</th>\n",
       "      <td>7.3</td>\n",
       "      <td>2.9</td>\n",
       "      <td>6.3</td>\n",
       "      <td>1.8</td>\n",
       "    </tr>\n",
       "    <tr>\n",
       "      <th>4</th>\n",
       "      <td>4.8</td>\n",
       "      <td>3.0</td>\n",
       "      <td>1.4</td>\n",
       "      <td>0.1</td>\n",
       "    </tr>\n",
       "  </tbody>\n",
       "</table>\n",
       "</div>"
      ],
      "text/plain": [
       "   input1  input2  input3  input4\n",
       "0     5.7     2.8     4.1     1.3\n",
       "1     7.6     3.0     6.6     2.1\n",
       "2     4.9     2.5     4.5     1.7\n",
       "3     7.3     2.9     6.3     1.8\n",
       "4     4.8     3.0     1.4     0.1"
      ]
     },
     "execution_count": 64,
     "metadata": {},
     "output_type": "execute_result"
    }
   ],
   "source": [
    "df_teste.head()"
   ]
  },
  {
   "cell_type": "markdown",
   "id": "0d34823b",
   "metadata": {},
   "source": [
    "Como podemos observar, os dados já vieram divididos em conjunto de treino (output fornecido) e conjunto de teste (output não fornecido). Agora que já lemos nossos datasets, podemos prosseguir para a próxima etapa, que é a normalização das entradas, para que estas tenham média nula e variância unitária. Utilizaremos a normalização Z-score."
   ]
  },
  {
   "cell_type": "code",
   "execution_count": 65,
   "id": "203c1560",
   "metadata": {},
   "outputs": [],
   "source": [
    "# Normalização Z-score para os dados de treino:\n",
    "x1_treino_norm = stats.zscore(df_treino['input1'].to_numpy().tolist())\n",
    "x2_treino_norm = stats.zscore(df_treino['input2'].to_numpy().tolist())\n",
    "x3_treino_norm = stats.zscore(df_treino['input3'].to_numpy().tolist())\n",
    "x4_treino_norm = stats.zscore(df_treino['input4'].to_numpy().tolist())\n",
    "# Substituindo os inputs do dataset de treino para seus valores normalizados:\n",
    "df_treino['input1'], df_treino['input2'], df_treino['input3'], df_treino['input4'] = x1_treino_norm, x2_treino_norm, x3_treino_norm, x4_treino_norm\n",
    "\n",
    "# Normalização Z-score para os dados de teste:\n",
    "x1_teste_norm = stats.zscore(df_teste['input1'].to_numpy().tolist())\n",
    "x2_teste_norm = stats.zscore(df_teste['input2'].to_numpy().tolist())\n",
    "x3_teste_norm = stats.zscore(df_teste['input3'].to_numpy().tolist())\n",
    "x4_teste_norm = stats.zscore(df_teste['input4'].to_numpy().tolist())\n",
    "# Substituindo os inputs do dataset de teste para seus valores normalizados:\n",
    "df_teste['input1'], df_teste['input2'], df_teste['input3'], df_teste['input4'] = x1_teste_norm, x2_teste_norm, x3_teste_norm, x4_teste_norm"
   ]
  },
  {
   "cell_type": "code",
   "execution_count": 66,
   "id": "aff9d36f",
   "metadata": {},
   "outputs": [
    {
     "data": {
      "text/html": [
       "<div>\n",
       "<style scoped>\n",
       "    .dataframe tbody tr th:only-of-type {\n",
       "        vertical-align: middle;\n",
       "    }\n",
       "\n",
       "    .dataframe tbody tr th {\n",
       "        vertical-align: top;\n",
       "    }\n",
       "\n",
       "    .dataframe thead th {\n",
       "        text-align: right;\n",
       "    }\n",
       "</style>\n",
       "<table border=\"1\" class=\"dataframe\">\n",
       "  <thead>\n",
       "    <tr style=\"text-align: right;\">\n",
       "      <th></th>\n",
       "      <th>input1</th>\n",
       "      <th>input2</th>\n",
       "      <th>input3</th>\n",
       "      <th>input4</th>\n",
       "      <th>output</th>\n",
       "    </tr>\n",
       "  </thead>\n",
       "  <tbody>\n",
       "    <tr>\n",
       "      <th>0</th>\n",
       "      <td>0.979912</td>\n",
       "      <td>0.497987</td>\n",
       "      <td>1.097793</td>\n",
       "      <td>1.268183</td>\n",
       "      <td>3</td>\n",
       "    </tr>\n",
       "    <tr>\n",
       "      <th>1</th>\n",
       "      <td>-1.030164</td>\n",
       "      <td>1.535459</td>\n",
       "      <td>-1.280507</td>\n",
       "      <td>-1.188125</td>\n",
       "      <td>1</td>\n",
       "    </tr>\n",
       "    <tr>\n",
       "      <th>2</th>\n",
       "      <td>1.608061</td>\n",
       "      <td>0.290492</td>\n",
       "      <td>1.267672</td>\n",
       "      <td>0.858798</td>\n",
       "      <td>3</td>\n",
       "    </tr>\n",
       "    <tr>\n",
       "      <th>3</th>\n",
       "      <td>0.351763</td>\n",
       "      <td>-0.539486</td>\n",
       "      <td>0.588158</td>\n",
       "      <td>0.858798</td>\n",
       "      <td>3</td>\n",
       "    </tr>\n",
       "    <tr>\n",
       "      <th>4</th>\n",
       "      <td>-1.155793</td>\n",
       "      <td>0.705481</td>\n",
       "      <td>-1.223881</td>\n",
       "      <td>-1.051664</td>\n",
       "      <td>1</td>\n",
       "    </tr>\n",
       "  </tbody>\n",
       "</table>\n",
       "</div>"
      ],
      "text/plain": [
       "     input1    input2    input3    input4  output\n",
       "0  0.979912  0.497987  1.097793  1.268183       3\n",
       "1 -1.030164  1.535459 -1.280507 -1.188125       1\n",
       "2  1.608061  0.290492  1.267672  0.858798       3\n",
       "3  0.351763 -0.539486  0.588158  0.858798       3\n",
       "4 -1.155793  0.705481 -1.223881 -1.051664       1"
      ]
     },
     "execution_count": 66,
     "metadata": {},
     "output_type": "execute_result"
    }
   ],
   "source": [
    "df_treino.head()"
   ]
  },
  {
   "cell_type": "code",
   "execution_count": 67,
   "id": "e7352610",
   "metadata": {},
   "outputs": [
    {
     "data": {
      "text/html": [
       "<div>\n",
       "<style scoped>\n",
       "    .dataframe tbody tr th:only-of-type {\n",
       "        vertical-align: middle;\n",
       "    }\n",
       "\n",
       "    .dataframe tbody tr th {\n",
       "        vertical-align: top;\n",
       "    }\n",
       "\n",
       "    .dataframe thead th {\n",
       "        text-align: right;\n",
       "    }\n",
       "</style>\n",
       "<table border=\"1\" class=\"dataframe\">\n",
       "  <thead>\n",
       "    <tr style=\"text-align: right;\">\n",
       "      <th></th>\n",
       "      <th>input1</th>\n",
       "      <th>input2</th>\n",
       "      <th>input3</th>\n",
       "      <th>input4</th>\n",
       "    </tr>\n",
       "  </thead>\n",
       "  <tbody>\n",
       "    <tr>\n",
       "      <th>0</th>\n",
       "      <td>-0.034577</td>\n",
       "      <td>-0.483579</td>\n",
       "      <td>0.230499</td>\n",
       "      <td>0.155503</td>\n",
       "    </tr>\n",
       "    <tr>\n",
       "      <th>1</th>\n",
       "      <td>2.100559</td>\n",
       "      <td>0.019343</td>\n",
       "      <td>1.652882</td>\n",
       "      <td>1.187778</td>\n",
       "    </tr>\n",
       "    <tr>\n",
       "      <th>2</th>\n",
       "      <td>-0.933582</td>\n",
       "      <td>-1.237963</td>\n",
       "      <td>0.458080</td>\n",
       "      <td>0.671641</td>\n",
       "    </tr>\n",
       "    <tr>\n",
       "      <th>3</th>\n",
       "      <td>1.763432</td>\n",
       "      <td>-0.232118</td>\n",
       "      <td>1.482196</td>\n",
       "      <td>0.800675</td>\n",
       "    </tr>\n",
       "    <tr>\n",
       "      <th>4</th>\n",
       "      <td>-1.045958</td>\n",
       "      <td>0.019343</td>\n",
       "      <td>-1.305675</td>\n",
       "      <td>-1.392910</td>\n",
       "    </tr>\n",
       "  </tbody>\n",
       "</table>\n",
       "</div>"
      ],
      "text/plain": [
       "     input1    input2    input3    input4\n",
       "0 -0.034577 -0.483579  0.230499  0.155503\n",
       "1  2.100559  0.019343  1.652882  1.187778\n",
       "2 -0.933582 -1.237963  0.458080  0.671641\n",
       "3  1.763432 -0.232118  1.482196  0.800675\n",
       "4 -1.045958  0.019343 -1.305675 -1.392910"
      ]
     },
     "execution_count": 67,
     "metadata": {},
     "output_type": "execute_result"
    }
   ],
   "source": [
    "df_teste.head()"
   ]
  },
  {
   "cell_type": "markdown",
   "id": "c07d3052",
   "metadata": {},
   "source": [
    "Agora que os valores do nosso conjunto de dados seguem uma escala comum, iremos, por fim, dividir nosso dataset de treino em inputs e outputs e adequar o formato dos nossos dados para futuro uso nas funções:"
   ]
  },
  {
   "cell_type": "code",
   "execution_count": 68,
   "id": "98643957",
   "metadata": {},
   "outputs": [],
   "source": [
    "# Separando o dataset de treino em inputs e outputs:\n",
    "inputs_treino = df_treino.drop(columns=['output'])\n",
    "outputs_treino = df_treino['output']\n",
    "\n",
    "# Transformando as tabelas em listas:\n",
    "l_inputs_teste = df_teste.to_numpy().tolist()\n",
    "l_inputs_treino = inputs_treino.to_numpy().tolist()\n",
    "l_outputs_treino = []\n",
    "for output in df_treino['output']:\n",
    "    l_outputs_treino.append([output])\n",
    "    \n",
    "# Transformando os valores esperados do output em +1, para quando o valor pertence à classe, e -1, para quando não pertence:\n",
    "cont = 0\n",
    "novo_l_outputs_treino = []\n",
    "for output in l_outputs_treino:\n",
    "    if output == [1]:\n",
    "        novo_l_outputs_treino.append([+1, -1, -1])\n",
    "    elif output == [2]:\n",
    "        novo_l_outputs_treino.append([-1, +1, -1])\n",
    "    elif output == [3]: \n",
    "        novo_l_outputs_treino.append([-1, -1, +1])\n",
    "    cont += 1\n",
    "l_outputs_treino = novo_l_outputs_treino"
   ]
  },
  {
   "cell_type": "markdown",
   "id": "c3c36a24",
   "metadata": {},
   "source": [
    "### Parte I: construindo as funções"
   ]
  },
  {
   "cell_type": "markdown",
   "id": "0a618dbe",
   "metadata": {},
   "source": [
    "Construiremos, então, nosso algoritmo de Backpropagation. Começaremos pelo pseudo-código e, em seguida, construiremos o algoritmo completo."
   ]
  },
  {
   "cell_type": "code",
   "execution_count": null,
   "id": "85225dcd",
   "metadata": {},
   "outputs": [],
   "source": [
    "#####PSEUDO-CÓDIGO#####\n",
    "\n",
    "\n",
    "# Inicialização da network:\n",
    "função cria_network(D, nh, c):\n",
    "    Inicializa variável Wh como uma matriz de números aleatoriamente gerados entre -0.5 e 0.5\n",
    "    Inicializa a variável Bh como uma matriz de números aleatoriamente gerados entre -0.5 e 0.5\n",
    "    Inicializa variável Ws como uma matriz de números aleatoriamente gerados entre -0.35 e 0.35\n",
    "    Inicializa variável Bs como uma matriz de números aleatoriamente gerados entre -0.35 e 0.35\n",
    "    retorna Wh, Bh, Ws, Bs          \n",
    "    \n",
    "# Treinamento da network:\n",
    "função treina_network(network, inputs, output_esperado, η, nmax):\n",
    "    Cria a variável Wh\n",
    "    Cria a variável Bh\n",
    "    Cria a variável Ws\n",
    "    Cria a variável Bs\n",
    "    Cria a variável lista_epochs_n\n",
    "    Cria a variável lista_theta_θ\n",
    "    n = 0\n",
    "    θ = 1\n",
    "    while n != nmax:\n",
    "        if θ > 0.01:\n",
    "            ### FORWARD PROPAGATION\n",
    "            Inicializa a variável ativacao_hidden_layer pelo cálculo w * input + bias\n",
    "            Y = tanh de ativacao_hidden_layer\n",
    "            Inicializa a variável ativacao_output_layer pelo cálculo w * input (output da camada oculta) + bias\n",
    "            output_predito = tanh de ativacao_output_layer\n",
    "            ### BACK PROPAGATION\n",
    "            erro = output_esperado - output_predito\n",
    "            Inicializa a variável θ como o erro médio quadrático da variável erro\n",
    "            Inicializa a variável d_output_predito como a derivada da tangente hiperbólica do output de saída\n",
    "            Inicializa a variável erro_hidden_layer, que calcula o erro da camada oculta através do erro da camada de saída\n",
    "            Inicializa a variável d_hidden_layer como a derivada da tangente hiperbólica do output oculto\n",
    "            ### ATUALIZANDO PESOS E BIAS E PASSANDO O LOOP DE EPOCHS\n",
    "            Atualiza o valor da variável Ws\n",
    "            Atualiza o valor da variável Bs\n",
    "            Atualiza o valor da variável Wh\n",
    "            Atualiza o valor da variável Bh\n",
    "            Adiciona a epoch atual em lista_epochs_n\n",
    "            Adiciona o θ atual em lista_theta_θ\n",
    "            n += 1       \n",
    "        else:\n",
    "            n = nmax       \n",
    "    retorna lista_epochs_n, lista_theta_θ, Wh, Bh, Ws, Bs, output_predito\n",
    "\n",
    "# Predição dos outputs de uma network:\n",
    "função predicao(inputs, Wh, Bh, Ws, Bs):\n",
    "    ### FORWARD PROPAGATION\n",
    "    Inicializa a variável ativacao_hidden_layer pelo cálculo w * input + bias\n",
    "    Y = tanh de ativacao_hidden_layer\n",
    "    Inicializa a variável ativacao_output_layer pelo cálculo w * input (output da camada oculta) + bias\n",
    "    output_predito = tanh de ativacao_output_layer\n",
    "    retorna output_predito"
   ]
  },
  {
   "cell_type": "code",
   "execution_count": 69,
   "id": "c7448d69",
   "metadata": {},
   "outputs": [],
   "source": [
    "# Inicialização da network:\n",
    "def cria_network(D, nh, c):\n",
    "    \"\"\" Função que cria uma rede neural pronta para ser treinada.\n",
    "    Entrada: dimensão do espaço de entrada (D), número de unidades na camada escondida\n",
    "    (nh) e número de unidades ou classes na camada de saída (c).\n",
    "    Saída: os pesos e bias da rede neural criada.                                  \"\"\"\n",
    "    \n",
    "    # Para cada neurônio na camada oculta, adiciona-se uma determinada quantidade de pesos w e b (viés) aleatoriamente gerados entre -0.5 e 0.5.\n",
    "    Wh = np.random.uniform(low = -0.5, high = 0.5, size=(D, nh))    # Matriz de pesos da camada escondida.\n",
    "    Bh = np.random.uniform(low = -0.5, high = 0.5, size=(1, nh))    # Bias da camada escondida.\n",
    "    \n",
    "    # Para cada neurônio na camada de saída, adiciona-se uma determinada quantidade de pesos w e b (viés) aleatoriamente gerados entre -0.35 e 0.35.\n",
    "    Ws = np.random.uniform(low = -0.35, high = 0.35, size=(nh, c))    # Matriz de pesos da camada de saída.\n",
    "    Bs = np.random.uniform(low = -0.35, high = 0.35, size=(1, c))    # Bias da camada de saída.\n",
    "    return Wh, Bh, Ws, Bs      \n",
    "    \n",
    "    \n",
    "    \n",
    "# Treinamento da network:\n",
    "def treina_network(network, inputs, output_esperado, η, nmax):\n",
    "    \"\"\" Função que treina a network a partir de 3 passos: computação para frente, computação\n",
    "    para trás e atualização dos pesos e bias.\n",
    "    Entrada: uma rede neural, o espaço de entrada (input), o output esperado, a learning rate\n",
    "    (ou taxa de aprendizagem) e o número de epochs (iterações).\n",
    "    Saída: os históricos do erro médio quadrático e das epochs, os valores finais dos pesos e \n",
    "    dos bias e o output predito.                                                          \"\"\"\n",
    "    \n",
    "    Wh = network[0]\n",
    "    Bh = network[1]\n",
    "    Ws = network[2] \n",
    "    Bs = network[3]\n",
    "    \n",
    "    lista_epochs_n = []\n",
    "    lista_theta_θ = []\n",
    "    \n",
    "    n = 0\n",
    "    θ = 1\n",
    "    \n",
    "    while n != nmax:    # Cria um loop com o número máximo de epochs.\n",
    "        if θ > 0.01:    # Estabelece o theta θ (gradiente do erro médio quadrático) como critério de parada. Assim, o algoritmo parará quando θ for menor que 0.01 OU quando o número limite de epochs for alcançado.\n",
    "            ### FORWARD PROPAGATION\n",
    "            # Faz a \"ativação\" (ou seja, w * input + bias), implementa a função de ativação tanh (ou tangente hiperbólica) para cada neuronio oculto, e encontra Y = output da camada oculta.\n",
    "            ativacao_hidden_layer = np.dot(inputs, Wh)\n",
    "            ativacao_hidden_layer = ativacao_hidden_layer + Bh\n",
    "            Y = np.tanh(ativacao_hidden_layer)\n",
    "            # Faz a \"ativação\" (ou seja, w * input + bias) e implementa a função de ativação tanh (ou tangente hiperbólica) para cada neuronio de saída, e encontra o output predito.\n",
    "            ativacao_output_layer = np.dot(Y, Ws)\n",
    "            ativacao_output_layer = ativacao_output_layer + Bs\n",
    "            output_predito = np.tanh(ativacao_output_layer)\n",
    "        \n",
    "            ### BACK PROPAGATION\n",
    "            # Calcula o erro dos neurônios da camada de saída (que serão \"propagados para trás\"), o MSE dos erros da epoch (θ) e a derivada da tangente hiperbólica do output de saída.\n",
    "            erro = output_esperado - output_predito\n",
    "            θ = (np.mean(np.square(erro)))/2\n",
    "            d_output_predito = erro * (1 / output_predito**2)\n",
    "            # Calcula o erro da camada oculta através do erro da camada de saída que foi \"propagado para trás\" e encontra a derivada da tangente hiperbólica do output oculto (hidden).\n",
    "            erro_hidden_layer = d_output_predito.dot(Ws.T)\n",
    "            d_hidden_layer = erro_hidden_layer * (1 / Y**2)\n",
    "        \n",
    "            ### ATUALIZANDO PESOS E BIAS E PASSANDO O LOOP DE EPOCHS\n",
    "            Ws = Ws + Y.T.dot(d_output_predito) * η\n",
    "            Bs = Bs + np.sum(d_output_predito, axis=0, keepdims=True) * η\n",
    "            Wh = Wh + inputs.T.dot(d_hidden_layer) * η\n",
    "            Bh = Bh + np.sum(d_hidden_layer, axis=0, keepdims=True) * η\n",
    "            lista_epochs_n.append(n)\n",
    "            lista_theta_θ.append(θ)\n",
    "            n += 1\n",
    "            \n",
    "        else:\n",
    "            n = nmax\n",
    "            \n",
    "    return lista_epochs_n, lista_theta_θ, Wh, Bh, Ws, Bs, output_predito\n",
    "\n",
    "\n",
    "\n",
    "# Predição dos outputs de uma network:\n",
    "def predicao(inputs, Wh, Bh, Ws, Bs):\n",
    "    \"\"\" Função que prediz os valores de output de um determinado conjunto de dados.\n",
    "    Entrada: o espaço de entrada (input) e os pesos e bias.\n",
    "    Saída: o output predito.                                                    \"\"\"\n",
    "    ### FORWARD PROPAGATION\n",
    "    # Faz a \"ativação\" (ou seja, w * input + bias), implementa a função de ativação tanh (ou tangente hiperbólica) para cada neuronio oculto, e encontra o output da camada oculta.\n",
    "    ativacao_hidden_layer = np.dot(inputs, Wh)\n",
    "    ativacao_hidden_layer = ativacao_hidden_layer + Bh\n",
    "    Y = np.tanh(ativacao_hidden_layer)\n",
    "    # Faz a \"ativação\" (ou seja, w * input + bias) e implementa a função de ativação tanh (ou tangente hiperbólica) para cada neuronio de saída, e encontra o output predito.\n",
    "    ativacao_output_layer = np.dot(Y, Ws)\n",
    "    ativacao_output_layer = ativacao_output_layer + Bs\n",
    "    output_predito = np.tanh(ativacao_output_layer) \n",
    "    return output_predito"
   ]
  },
  {
   "cell_type": "markdown",
   "id": "810a25d3",
   "metadata": {},
   "source": [
    "### Parte II: classificação dos dados de treino e estimação dos pesos e bias"
   ]
  },
  {
   "cell_type": "markdown",
   "id": "7edc320a",
   "metadata": {},
   "source": [
    "Agora que já criamos funções capazes de \n",
    "1. estabelecer aleatoriamente os pesos de uma determinada network, \n",
    "2. classificar corretamente dados de treino por Backpropagation e\n",
    "3. estimar as classes de um conjunto de dados de teste,\n",
    "\n",
    "podemos prosseguir para a aplicação dessas funções para a resolução do exercício. Selecionemos, portanto, os nossos dados de teste:"
   ]
  },
  {
   "cell_type": "code",
   "execution_count": 70,
   "id": "deb23fa1",
   "metadata": {},
   "outputs": [],
   "source": [
    "### TESTE\n",
    "# Dados do problema:\n",
    "inputs = np.array(l_inputs_treino)    # Espaço de entrada do problema.\n",
    "output_esperado = np.array(l_outputs_treino)    # Resultados esperados para o problema.\n",
    "\n",
    "# Chamando a função \"cria_network\":\n",
    "network = cria_network(4, 2, 3)    # Ou seja, 4 entradas (no caso, x1, x2, x3 e x4), 2 camadas ocultas e 3 saídas (no caso, 1, 2 ou 3).\n",
    "# Chamando a função \"treina_network\":\n",
    "lista_epochs_n, lista_theta_θ, Wh_final, Bh_final, Ws_final, Bs_final, output_predito = treina_network(network, inputs, output_esperado, 0.5, 5000)"
   ]
  },
  {
   "cell_type": "markdown",
   "id": "3523d7cd",
   "metadata": {},
   "source": [
    "Chamadas as funções \"cria_network\" e \"treina_network\" a partir de nossos dados de teste, verificaremos, primeiramente, se o nosso algoritmo de backpropagation foi capaz de estimar corretamente os outputs:"
   ]
  },
  {
   "cell_type": "code",
   "execution_count": 71,
   "id": "73c842d7",
   "metadata": {},
   "outputs": [
    {
     "name": "stdout",
     "output_type": "stream",
     "text": [
      "Os valores preditos para o output são iguais aos valores dados no arquivo \"treina.txt\"? True\n"
     ]
    }
   ],
   "source": [
    "if (output_predito == l_outputs_treino).all():\n",
    "    print('Os valores preditos para o output são iguais aos valores dados no arquivo \"treina.txt\"?', True)"
   ]
  },
  {
   "cell_type": "markdown",
   "id": "05efe3f3",
   "metadata": {},
   "source": [
    "Parece que sim! Os valores preditos batem completamente com os valores do arquivo \"treina.txt\". \n",
    "\n",
    "Podemos, também, plotar a curva de aprendizagem (MSE x epoch), importante para avaliar a performance da rede, visto que a observação desta curva é o melhor modo de monitorar se os pesos e o bias estão atingindo seus valores ideais: "
   ]
  },
  {
   "cell_type": "code",
   "execution_count": 72,
   "id": "a9bc51ee",
   "metadata": {
    "scrolled": true
   },
   "outputs": [
    {
     "data": {
      "text/plain": [
       "[<matplotlib.lines.Line2D at 0x188121f24c8>]"
      ]
     },
     "execution_count": 72,
     "metadata": {},
     "output_type": "execute_result"
    },
    {
     "data": {
      "image/png": "[encoded data removed]",
      "text/plain": [
       "<Figure size 720x432 with 1 Axes>"
      ]
     },
     "metadata": {},
     "output_type": "display_data"
    }
   ],
   "source": [
    "# Plotando a curva de aprendizagem:\n",
    "plt.figure(figsize = (10, 6))\n",
    "plt.title('Curva de aprendizagem', fontsize=15, weight='bold')\n",
    "plt.xlabel('Epoch', fontsize=15, loc='right')\n",
    "plt.ylabel('Erro quadrático médio', rotation=0, fontsize=15, loc='top')\n",
    "plt.plot(lista_epochs_n, lista_theta_θ, linewidth=0.2, marker='o', markersize=1, color='c')"
   ]
  },
  {
   "cell_type": "markdown",
   "id": "4a13734a",
   "metadata": {},
   "source": [
    "A aproximação do erro quadrático médio de seu mínimo indica uma melhora na convergência do processo de adaptação da rede neural. Portanto, considerando que o gráfico é finalizado antes das 5000 epochs (nmax), temos que θ (gradiente do erro médio quadrático) consegue alcançar um valor menor que 0.01, atingindo, portanto, o critério de parada.\n",
    "\n",
    "Por fim, devemos verificar também quais foram os valores estimados para os pesos e bias de cada neurônio da camada escondida e da camada de saída. Veja:"
   ]
  },
  {
   "cell_type": "code",
   "execution_count": 74,
   "id": "729040af",
   "metadata": {},
   "outputs": [
    {
     "name": "stdout",
     "output_type": "stream",
     "text": [
      "O valor ótimo de w1 encontrado para o neurônio oculto 1 é: 355862399.897405\n",
      "O valor ótimo de w2 encontrado para o neurônio oculto 1 é: 1087275134.6304982\n",
      "O valor ótimo de w3 encontrado para o neurônio oculto 1 é: -2113735065.0561628\n",
      "O valor ótimo de w4 encontrado para o neurônio oculto 1 é: -929791033.304947\n",
      "O valor ótimo de b encontrado para o neurônio oculto 1 é: 392849049.9853305\n",
      "\n",
      "O valor ótimo de w1 encontrado para o neurônio oculto 2 é: 163297290.82327986\n",
      "O valor ótimo de w2 encontrado para o neurônio oculto 2 é: 171483464.01939252\n",
      "O valor ótimo de w3 encontrado para o neurônio oculto 2 é: -1530951822.1336749\n",
      "O valor ótimo de w4 encontrado para o neurônio oculto 2 é: -632584222.8102869\n",
      "O valor ótimo de b encontrado para o neurônio oculto 2 é: 1399632196.939072\n",
      "\n",
      "O valor ótimo de w1 encontrado para o neurônio de saída 1 é: 3258.6237192557696\n",
      "O valor ótimo de w2 encontrado para o neurônio de saída 1 é: 1358.016134090603\n",
      "O valor ótimo de b encontrado para o neurônio de saída 1 é: 1288.3853869690856\n",
      "\n",
      "O valor ótimo de w1 encontrado para o neurônio de saída 2 é: -29878.596045717248\n",
      "O valor ótimo de w2 encontrado para o neurônio de saída 2 é: 57074.4864048331\n",
      "O valor ótimo de b encontrado para o neurônio de saída 2 é: -28986.206070012326\n",
      "\n",
      "O valor ótimo de w1 encontrado para o neurônio de saída 3 é: -29261143.934983734\n",
      "O valor ótimo de w2 encontrado para o neurônio de saída 3 é: -21832286.985816058\n",
      "O valor ótimo de b encontrado para o neurônio de saída 3 é: -47013818.81321847\n"
     ]
    }
   ],
   "source": [
    "# Consertando as dimensões das listas:\n",
    "Bh_final = np.squeeze(Bh_final)\n",
    "Bs_final = np.squeeze(Bs_final)\n",
    "\n",
    "# Separando os pesos e bias finais para o neurônio escondido 1:\n",
    "final_w1_hidden1 = Wh_final[0][0]\n",
    "final_w2_hidden1 = Wh_final[1][0]\n",
    "final_w3_hidden1 = Wh_final[2][0]\n",
    "final_w4_hidden1 = Wh_final[3][0]\n",
    "final_b_hidden1 = Bh_final[0]\n",
    "print('O valor ótimo de w1 encontrado para o neurônio oculto 1 é:', final_w1_hidden1)\n",
    "print('O valor ótimo de w2 encontrado para o neurônio oculto 1 é:', final_w2_hidden1)\n",
    "print('O valor ótimo de w3 encontrado para o neurônio oculto 1 é:', final_w3_hidden1)\n",
    "print('O valor ótimo de w4 encontrado para o neurônio oculto 1 é:', final_w4_hidden1)\n",
    "print('O valor ótimo de b encontrado para o neurônio oculto 1 é:', final_b_hidden1)\n",
    "# Separando os pesos e bias finais para o neurônio escondido 2:\n",
    "final_w1_hidden2 = Wh_final[0][1]\n",
    "final_w2_hidden2 = Wh_final[1][1]\n",
    "final_w3_hidden2 = Wh_final[2][1]\n",
    "final_w4_hidden2 = Wh_final[3][1]\n",
    "final_b_hidden2 = Bh_final[1]\n",
    "print('\\nO valor ótimo de w1 encontrado para o neurônio oculto 2 é:', final_w1_hidden2)\n",
    "print('O valor ótimo de w2 encontrado para o neurônio oculto 2 é:', final_w2_hidden2)\n",
    "print('O valor ótimo de w3 encontrado para o neurônio oculto 2 é:', final_w3_hidden2)\n",
    "print('O valor ótimo de w4 encontrado para o neurônio oculto 2 é:', final_w4_hidden2)\n",
    "print('O valor ótimo de b encontrado para o neurônio oculto 2 é:', final_b_hidden2)\n",
    "\n",
    "# Separando os pesos e bias finais para o neurônio de saída 1:\n",
    "final_w1_output1 = Ws_final[0][0]\n",
    "final_w2_output1 = Ws_final[1][0]\n",
    "final_b_output1 = Bs_final[0]\n",
    "print('\\nO valor ótimo de w1 encontrado para o neurônio de saída 1 é:', final_w1_output1)\n",
    "print('O valor ótimo de w2 encontrado para o neurônio de saída 1 é:', final_w2_output1)\n",
    "print('O valor ótimo de b encontrado para o neurônio de saída 1 é:', final_b_output1)\n",
    "# Separando os pesos e bias finais para o neurônio de saída 2:\n",
    "final_w1_output2 = Ws_final[0][1]\n",
    "final_w2_output2 = Ws_final[1][1]\n",
    "final_b_output2 = Bs_final[1]\n",
    "print('\\nO valor ótimo de w1 encontrado para o neurônio de saída 2 é:', final_w1_output2)\n",
    "print('O valor ótimo de w2 encontrado para o neurônio de saída 2 é:', final_w2_output2)\n",
    "print('O valor ótimo de b encontrado para o neurônio de saída 2 é:', final_b_output2)\n",
    "# Separando os pesos e bias finais para o neurônio de saída 3:\n",
    "final_w1_output3 = Ws_final[0][2]\n",
    "final_w2_output3 = Ws_final[1][2]\n",
    "final_b_output3 = Bs_final[2]\n",
    "print('\\nO valor ótimo de w1 encontrado para o neurônio de saída 3 é:', final_w1_output3)\n",
    "print('O valor ótimo de w2 encontrado para o neurônio de saída 3 é:', final_w2_output3)\n",
    "print('O valor ótimo de b encontrado para o neurônio de saída 3 é:', final_b_output3)"
   ]
  },
  {
   "cell_type": "markdown",
   "id": "93066107",
   "metadata": {},
   "source": [
    "### Parte III: classificação dos dados de teste"
   ]
  },
  {
   "cell_type": "markdown",
   "id": "69a6eefd",
   "metadata": {},
   "source": [
    "Através do treinamento da rede, desvendamos o número de neurônios escondidos que melhor resolve o problema e os valores das matrizes de pesos de cada camada. Agora, portanto, somos capazes de classificar os dados do conjunto de teste pelo uso da função \"predicao\". Observe:"
   ]
  },
  {
   "cell_type": "code",
   "execution_count": 75,
   "id": "e90bdcc2",
   "metadata": {},
   "outputs": [],
   "source": [
    "# TREINO\n",
    "# Dados do problema:\n",
    "inputs = np.array(l_inputs_teste)    # Espaço de entrada do problema.\n",
    "Wh = Wh_final    # Matriz de pesos da camada escondida.\n",
    "Bh = Bh_final    # Matriz de bias da camada escondida.\n",
    "Ws = Ws_final    # Matriz de pesos da camada de saída.\n",
    "Bs = Bs_final    # Matriz de bias da camada de saída.\n",
    "\n",
    "# Chamando a função \"predicao\":\n",
    "output_predito = predicao(inputs, Wh, Bh, Ws, Bs)"
   ]
  },
  {
   "cell_type": "markdown",
   "id": "d946cf27",
   "metadata": {},
   "source": [
    "Os valores preditos para o output são:"
   ]
  },
  {
   "cell_type": "code",
   "execution_count": 76,
   "id": "68f97d84",
   "metadata": {},
   "outputs": [
    {
     "name": "stdout",
     "output_type": "stream",
     "text": [
      "Outputs dos dados de teste: \n",
      " [[-1.  1. -1.]\n",
      " [-1. -1.  1.]\n",
      " [-1. -1.  1.]\n",
      " [-1. -1.  1.]\n",
      " [ 1. -1. -1.]\n",
      " [ 1. -1. -1.]\n",
      " [-1.  1. -1.]\n",
      " [-1.  1. -1.]\n",
      " [ 1. -1. -1.]\n",
      " [-1.  1. -1.]\n",
      " [-1.  1. -1.]\n",
      " [ 1. -1. -1.]\n",
      " [ 1. -1. -1.]\n",
      " [ 1. -1. -1.]\n",
      " [ 1. -1. -1.]\n",
      " [-1.  1. -1.]\n",
      " [-1.  1. -1.]\n",
      " [-1.  1. -1.]\n",
      " [-1. -1.  1.]\n",
      " [-1. -1.  1.]\n",
      " [ 1. -1. -1.]\n",
      " [ 1. -1. -1.]\n",
      " [ 1. -1. -1.]\n",
      " [-1. -1.  1.]\n",
      " [-1. -1.  1.]\n",
      " [ 1. -1. -1.]\n",
      " [ 1. -1. -1.]\n",
      " [ 1. -1. -1.]\n",
      " [-1. -1.  1.]\n",
      " [-1. -1.  1.]\n",
      " [-1.  1. -1.]\n",
      " [-1.  1. -1.]\n",
      " [-1. -1.  1.]\n",
      " [-1.  1. -1.]\n",
      " [-1. -1.  1.]\n",
      " [-1. -1.  1.]\n",
      " [-1.  1. -1.]\n",
      " [-1.  1. -1.]\n",
      " [-1. -1.  1.]]\n"
     ]
    }
   ],
   "source": [
    "print(\"Outputs dos dados de teste: \\n\", output_predito)"
   ]
  }
 ],
 "metadata": {
  "kernelspec": {
   "display_name": "Python 3 (ipykernel)",
   "language": "python",
   "name": "python3"
  },
  "language_info": {
   "codemirror_mode": {
    "name": "ipython",
    "version": 3
   },
   "file_extension": ".py",
   "mimetype": "text/x-python",
   "name": "python",
   "nbconvert_exporter": "python",
   "pygments_lexer": "ipython3",
   "version": "3.7.13"
  }
 },
 "nbformat": 4,
 "nbformat_minor": 5
}
